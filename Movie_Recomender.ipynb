{
 "cells": [
  {
   "cell_type": "code",
   "execution_count": 2,
   "id": "47a69425",
   "metadata": {},
   "outputs": [],
   "source": [
    "import numpy as np\n",
    "import pandas as pd"
   ]
  },
  {
   "cell_type": "code",
   "execution_count": 98,
   "id": "bedc7322",
   "metadata": {},
   "outputs": [],
   "source": [
    "import matplotlib.pyplot as plt\n",
    "import seaborn as sns\n",
    "import pickle"
   ]
  },
  {
   "cell_type": "code",
   "execution_count": 7,
   "id": "02b941c5",
   "metadata": {},
   "outputs": [],
   "source": [
    "movies = pd.read_csv('tmdb_5000_movies.csv')\n",
    "credits = pd.read_csv('tmdb_5000_credits.csv')"
   ]
  },
  {
   "cell_type": "markdown",
   "id": "af39d803",
   "metadata": {},
   "source": [
    "# EDA"
   ]
  },
  {
   "cell_type": "code",
   "execution_count": 8,
   "id": "41811fe8",
   "metadata": {
    "scrolled": false
   },
   "outputs": [
    {
     "name": "stdout",
     "output_type": "stream",
     "text": [
      "<class 'pandas.core.frame.DataFrame'>\n",
      "RangeIndex: 4803 entries, 0 to 4802\n",
      "Data columns (total 20 columns):\n",
      " #   Column                Non-Null Count  Dtype  \n",
      "---  ------                --------------  -----  \n",
      " 0   budget                4803 non-null   int64  \n",
      " 1   genres                4803 non-null   object \n",
      " 2   homepage              1712 non-null   object \n",
      " 3   id                    4803 non-null   int64  \n",
      " 4   keywords              4803 non-null   object \n",
      " 5   original_language     4803 non-null   object \n",
      " 6   original_title        4803 non-null   object \n",
      " 7   overview              4800 non-null   object \n",
      " 8   popularity            4803 non-null   float64\n",
      " 9   production_companies  4803 non-null   object \n",
      " 10  production_countries  4803 non-null   object \n",
      " 11  release_date          4802 non-null   object \n",
      " 12  revenue               4803 non-null   int64  \n",
      " 13  runtime               4801 non-null   float64\n",
      " 14  spoken_languages      4803 non-null   object \n",
      " 15  status                4803 non-null   object \n",
      " 16  tagline               3959 non-null   object \n",
      " 17  title                 4803 non-null   object \n",
      " 18  vote_average          4803 non-null   float64\n",
      " 19  vote_count            4803 non-null   int64  \n",
      "dtypes: float64(3), int64(4), object(13)\n",
      "memory usage: 750.6+ KB\n"
     ]
    }
   ],
   "source": [
    "movies.info()"
   ]
  },
  {
   "cell_type": "code",
   "execution_count": 9,
   "id": "f3831d34",
   "metadata": {
    "scrolled": true
   },
   "outputs": [
    {
     "data": {
      "text/plain": [
       "budget                     0\n",
       "genres                     0\n",
       "homepage                3091\n",
       "id                         0\n",
       "keywords                   0\n",
       "original_language          0\n",
       "original_title             0\n",
       "overview                   3\n",
       "popularity                 0\n",
       "production_companies       0\n",
       "production_countries       0\n",
       "release_date               1\n",
       "revenue                    0\n",
       "runtime                    2\n",
       "spoken_languages           0\n",
       "status                     0\n",
       "tagline                  844\n",
       "title                      0\n",
       "vote_average               0\n",
       "vote_count                 0\n",
       "dtype: int64"
      ]
     },
     "execution_count": 9,
     "metadata": {},
     "output_type": "execute_result"
    }
   ],
   "source": [
    "movies.isna().sum()"
   ]
  },
  {
   "cell_type": "code",
   "execution_count": 10,
   "id": "0b706a7a",
   "metadata": {},
   "outputs": [
    {
     "name": "stdout",
     "output_type": "stream",
     "text": [
      "0.27395182861902767\n",
      "0.7781298890348539\n",
      "0.31299740399575976\n"
     ]
    }
   ],
   "source": [
    "# checking correlations between popularity, vote_count and vote_average\n",
    "print(movies['vote_average'].corr(movies['popularity']))\n",
    "print(movies['vote_count'].corr(movies['popularity']))\n",
    "print(movies['vote_average'].corr(movies['vote_count']))\n",
    "\n",
    "# popularity and vote_count have high correlation"
   ]
  },
  {
   "cell_type": "code",
   "execution_count": 13,
   "id": "09477612",
   "metadata": {},
   "outputs": [
    {
     "name": "stdout",
     "output_type": "stream",
     "text": [
      "0.5054139990665322\n",
      "0.644723504555998\n",
      "0.6208543203014802\n",
      "0.1971496658113086\n"
     ]
    }
   ],
   "source": [
    "# checking correlations between popularity,vote_average and revenue, budget\n",
    "print(movies['budget'].corr(movies['popularity']))\n",
    "print(movies['revenue'].corr(movies['popularity']))\n",
    "print((movies['revenue'] - movies['budget']).corr(movies['popularity']))\n",
    "print(movies['revenue'].corr(movies['vote_average']))\n",
    "\n",
    "# revenue is kind of related to popularity - which makes sense as more people know about the movie"
   ]
  },
  {
   "cell_type": "code",
   "execution_count": 14,
   "id": "94f202e6",
   "metadata": {
    "scrolled": false
   },
   "outputs": [
    {
     "data": {
      "text/plain": [
       "<Axes: xlabel='vote_average', ylabel='budget'>"
      ]
     },
     "execution_count": 14,
     "metadata": {},
     "output_type": "execute_result"
    },
    {
     "data": {
      "image/png": "[encoded data removed]",
      "text/plain": [
       "<Figure size 640x480 with 1 Axes>"
      ]
     },
     "metadata": {},
     "output_type": "display_data"
    },
    {
     "data": {
      "image/png": "[encoded data removed]",
      "text/plain": [
       "<Figure size 640x480 with 1 Axes>"
      ]
     },
     "metadata": {},
     "output_type": "display_data"
    },
    {
     "data": {
      "image/png": "[encoded data removed]",
      "text/plain": [
       "<Figure size 640x480 with 1 Axes>"
      ]
     },
     "metadata": {},
     "output_type": "display_data"
    }
   ],
   "source": [
    "# plots to vizualize the above correlations\n",
    "movies.plot.scatter(x='vote_average', y='revenue')\n",
    "movies.plot.scatter(x='popularity', y='revenue')\n",
    "movies.plot.scatter(x='vote_average', y='budget')"
   ]
  },
  {
   "cell_type": "code",
   "execution_count": 15,
   "id": "7e553af2",
   "metadata": {},
   "outputs": [
    {
     "data": {
      "text/plain": [
       "<Axes: ylabel='count'>"
      ]
     },
     "execution_count": 15,
     "metadata": {},
     "output_type": "execute_result"
    },
    {
     "data": {
      "image/png": "[encoded data removed]",
      "text/plain": [
       "<Figure size 640x480 with 1 Axes>"
      ]
     },
     "metadata": {},
     "output_type": "display_data"
    }
   ],
   "source": [
    "# analysing if language can be a factor that affects users choice\n",
    "movies['original_language'].value_counts().plot(kind = 'pie', autopct='%1.1f%%')\n",
    "\n",
    "# highly skewed towards english language"
   ]
  },
  {
   "cell_type": "code",
   "execution_count": 16,
   "id": "684dcdf1",
   "metadata": {},
   "outputs": [
    {
     "name": "stdout",
     "output_type": "stream",
     "text": [
      "<class 'pandas.core.frame.DataFrame'>\n",
      "RangeIndex: 4803 entries, 0 to 4802\n",
      "Data columns (total 4 columns):\n",
      " #   Column    Non-Null Count  Dtype \n",
      "---  ------    --------------  ----- \n",
      " 0   movie_id  4803 non-null   int64 \n",
      " 1   title     4803 non-null   object\n",
      " 2   cast      4803 non-null   object\n",
      " 3   crew      4803 non-null   object\n",
      "dtypes: int64(1), object(3)\n",
      "memory usage: 150.2+ KB\n"
     ]
    }
   ],
   "source": [
    "credits.info()"
   ]
  },
  {
   "cell_type": "code",
   "execution_count": 17,
   "id": "d61c9447",
   "metadata": {},
   "outputs": [
    {
     "data": {
      "text/html": [
       "<div>\n",
       "<style scoped>\n",
       "    .dataframe tbody tr th:only-of-type {\n",
       "        vertical-align: middle;\n",
       "    }\n",
       "\n",
       "    .dataframe tbody tr th {\n",
       "        vertical-align: top;\n",
       "    }\n",
       "\n",
       "    .dataframe thead th {\n",
       "        text-align: right;\n",
       "    }\n",
       "</style>\n",
       "<table border=\"1\" class=\"dataframe\">\n",
       "  <thead>\n",
       "    <tr style=\"text-align: right;\">\n",
       "      <th></th>\n",
       "      <th>movie_id</th>\n",
       "      <th>title</th>\n",
       "      <th>cast</th>\n",
       "      <th>crew</th>\n",
       "    </tr>\n",
       "  </thead>\n",
       "  <tbody>\n",
       "    <tr>\n",
       "      <th>0</th>\n",
       "      <td>19995</td>\n",
       "      <td>Avatar</td>\n",
       "      <td>[{\"cast_id\": 242, \"character\": \"Jake Sully\", \"...</td>\n",
       "      <td>[{\"credit_id\": \"52fe48009251416c750aca23\", \"de...</td>\n",
       "    </tr>\n",
       "  </tbody>\n",
       "</table>\n",
       "</div>"
      ],
      "text/plain": [
       "   movie_id   title                                               cast  \\\n",
       "0     19995  Avatar  [{\"cast_id\": 242, \"character\": \"Jake Sully\", \"...   \n",
       "\n",
       "                                                crew  \n",
       "0  [{\"credit_id\": \"52fe48009251416c750aca23\", \"de...  "
      ]
     },
     "execution_count": 17,
     "metadata": {},
     "output_type": "execute_result"
    }
   ],
   "source": [
    "credits.head(1)"
   ]
  },
  {
   "cell_type": "markdown",
   "id": "3c7b2025",
   "metadata": {},
   "source": [
    "# Content-based Recommendation System"
   ]
  },
  {
   "cell_type": "raw",
   "id": "9a4bba4c",
   "metadata": {},
   "source": [
    "Approach: we shall process the data from the textual columns and create tags to check for similarity in content of the movies\n",
    "\n",
    "columns to be considered\n",
    "- keywords\n",
    "- cast: Top 5 actors\n",
    "- crew: Director\n",
    "- genres\n",
    "- overview\n",
    "- title"
   ]
  },
  {
   "cell_type": "markdown",
   "id": "ed9a10a1",
   "metadata": {},
   "source": [
    "# Data Pre-processing for content based filtering"
   ]
  },
  {
   "cell_type": "code",
   "execution_count": 18,
   "id": "02c01c59",
   "metadata": {},
   "outputs": [
    {
     "data": {
      "text/html": [
       "<div>\n",
       "<style scoped>\n",
       "    .dataframe tbody tr th:only-of-type {\n",
       "        vertical-align: middle;\n",
       "    }\n",
       "\n",
       "    .dataframe tbody tr th {\n",
       "        vertical-align: top;\n",
       "    }\n",
       "\n",
       "    .dataframe thead th {\n",
       "        text-align: right;\n",
       "    }\n",
       "</style>\n",
       "<table border=\"1\" class=\"dataframe\">\n",
       "  <thead>\n",
       "    <tr style=\"text-align: right;\">\n",
       "      <th></th>\n",
       "      <th>id</th>\n",
       "      <th>genres</th>\n",
       "      <th>overview</th>\n",
       "      <th>keywords</th>\n",
       "      <th>title</th>\n",
       "    </tr>\n",
       "  </thead>\n",
       "  <tbody>\n",
       "    <tr>\n",
       "      <th>2421</th>\n",
       "      <td>13960</td>\n",
       "      <td>[{\"id\": 18, \"name\": \"Drama\"}]</td>\n",
       "      <td>As four friends prepare for life after high sc...</td>\n",
       "      <td>[]</td>\n",
       "      <td>ATL</td>\n",
       "    </tr>\n",
       "  </tbody>\n",
       "</table>\n",
       "</div>"
      ],
      "text/plain": [
       "         id                         genres  \\\n",
       "2421  13960  [{\"id\": 18, \"name\": \"Drama\"}]   \n",
       "\n",
       "                                               overview keywords title  \n",
       "2421  As four friends prepare for life after high sc...       []   ATL  "
      ]
     },
     "execution_count": 18,
     "metadata": {},
     "output_type": "execute_result"
    }
   ],
   "source": [
    "new_df = movies.loc[:,['id','genres','overview','keywords','title']]\n",
    "new_df.sample()"
   ]
  },
  {
   "cell_type": "code",
   "execution_count": 19,
   "id": "d3236950",
   "metadata": {
    "scrolled": true
   },
   "outputs": [
    {
     "data": {
      "text/plain": [
       "(4803, 5)"
      ]
     },
     "execution_count": 19,
     "metadata": {},
     "output_type": "execute_result"
    }
   ],
   "source": [
    "new_df.shape"
   ]
  },
  {
   "cell_type": "code",
   "execution_count": 20,
   "id": "e293e6f3",
   "metadata": {},
   "outputs": [],
   "source": [
    "new_df = new_df.drop_duplicates(subset=['id'])"
   ]
  },
  {
   "cell_type": "code",
   "execution_count": 21,
   "id": "62c69e49",
   "metadata": {},
   "outputs": [],
   "source": [
    "new_df = new_df.merge(credits.drop(columns = 'title'), left_on = 'id', right_on = 'movie_id').drop_duplicates(subset=['id'])"
   ]
  },
  {
   "cell_type": "code",
   "execution_count": 22,
   "id": "e7baee67",
   "metadata": {
    "scrolled": true
   },
   "outputs": [
    {
     "data": {
      "text/html": [
       "<div>\n",
       "<style scoped>\n",
       "    .dataframe tbody tr th:only-of-type {\n",
       "        vertical-align: middle;\n",
       "    }\n",
       "\n",
       "    .dataframe tbody tr th {\n",
       "        vertical-align: top;\n",
       "    }\n",
       "\n",
       "    .dataframe thead th {\n",
       "        text-align: right;\n",
       "    }\n",
       "</style>\n",
       "<table border=\"1\" class=\"dataframe\">\n",
       "  <thead>\n",
       "    <tr style=\"text-align: right;\">\n",
       "      <th></th>\n",
       "      <th>id</th>\n",
       "      <th>genres</th>\n",
       "      <th>overview</th>\n",
       "      <th>keywords</th>\n",
       "      <th>title</th>\n",
       "      <th>movie_id</th>\n",
       "      <th>cast</th>\n",
       "      <th>crew</th>\n",
       "    </tr>\n",
       "  </thead>\n",
       "  <tbody>\n",
       "    <tr>\n",
       "      <th>1</th>\n",
       "      <td>285</td>\n",
       "      <td>[{\"id\": 12, \"name\": \"Adventure\"}, {\"id\": 14, \"...</td>\n",
       "      <td>Captain Barbossa, long believed to be dead, ha...</td>\n",
       "      <td>[{\"id\": 270, \"name\": \"ocean\"}, {\"id\": 726, \"na...</td>\n",
       "      <td>Pirates of the Caribbean: At World's End</td>\n",
       "      <td>285</td>\n",
       "      <td>[{\"cast_id\": 4, \"character\": \"Captain Jack Spa...</td>\n",
       "      <td>[{\"credit_id\": \"52fe4232c3a36847f800b579\", \"de...</td>\n",
       "    </tr>\n",
       "  </tbody>\n",
       "</table>\n",
       "</div>"
      ],
      "text/plain": [
       "    id                                             genres  \\\n",
       "1  285  [{\"id\": 12, \"name\": \"Adventure\"}, {\"id\": 14, \"...   \n",
       "\n",
       "                                            overview  \\\n",
       "1  Captain Barbossa, long believed to be dead, ha...   \n",
       "\n",
       "                                            keywords  \\\n",
       "1  [{\"id\": 270, \"name\": \"ocean\"}, {\"id\": 726, \"na...   \n",
       "\n",
       "                                      title  movie_id  \\\n",
       "1  Pirates of the Caribbean: At World's End       285   \n",
       "\n",
       "                                                cast  \\\n",
       "1  [{\"cast_id\": 4, \"character\": \"Captain Jack Spa...   \n",
       "\n",
       "                                                crew  \n",
       "1  [{\"credit_id\": \"52fe4232c3a36847f800b579\", \"de...  "
      ]
     },
     "execution_count": 22,
     "metadata": {},
     "output_type": "execute_result"
    }
   ],
   "source": [
    "new_df.iloc[[1]]"
   ]
  },
  {
   "cell_type": "code",
   "execution_count": 23,
   "id": "e7da778e",
   "metadata": {},
   "outputs": [
    {
     "data": {
      "text/plain": [
       "(4803, 8)"
      ]
     },
     "execution_count": 23,
     "metadata": {},
     "output_type": "execute_result"
    }
   ],
   "source": [
    "new_df.shape"
   ]
  },
  {
   "cell_type": "code",
   "execution_count": 24,
   "id": "763f971d",
   "metadata": {
    "scrolled": true
   },
   "outputs": [
    {
     "data": {
      "text/plain": [
       "id          0\n",
       "genres      0\n",
       "overview    3\n",
       "keywords    0\n",
       "title       0\n",
       "movie_id    0\n",
       "cast        0\n",
       "crew        0\n",
       "dtype: int64"
      ]
     },
     "execution_count": 24,
     "metadata": {},
     "output_type": "execute_result"
    }
   ],
   "source": [
    "new_df.isna().sum()"
   ]
  },
  {
   "cell_type": "code",
   "execution_count": 25,
   "id": "c76ebc87",
   "metadata": {},
   "outputs": [
    {
     "data": {
      "text/plain": [
       "'[{\"id\": 12, \"name\": \"Adventure\"}, {\"id\": 14, \"name\": \"Fantasy\"}, {\"id\": 28, \"name\": \"Action\"}]'"
      ]
     },
     "execution_count": 25,
     "metadata": {},
     "output_type": "execute_result"
    }
   ],
   "source": [
    "new_df.iloc[1].genres"
   ]
  },
  {
   "cell_type": "code",
   "execution_count": 26,
   "id": "d07d7d7e",
   "metadata": {},
   "outputs": [
    {
     "data": {
      "text/plain": [
       "str"
      ]
     },
     "execution_count": 26,
     "metadata": {},
     "output_type": "execute_result"
    }
   ],
   "source": [
    "type(new_df.iloc[1].genres)"
   ]
  },
  {
   "cell_type": "code",
   "execution_count": 27,
   "id": "afc1419e",
   "metadata": {},
   "outputs": [
    {
     "data": {
      "text/plain": [
       "[{'id': 12, 'name': 'Adventure'},\n",
       " {'id': 14, 'name': 'Fantasy'},\n",
       " {'id': 28, 'name': 'Action'}]"
      ]
     },
     "execution_count": 27,
     "metadata": {},
     "output_type": "execute_result"
    }
   ],
   "source": [
    "# to identify list objects formatted as strings\n",
    "import ast\n",
    "ast.literal_eval(new_df.iloc[1].genres)"
   ]
  },
  {
   "cell_type": "code",
   "execution_count": 28,
   "id": "e90ef491",
   "metadata": {},
   "outputs": [],
   "source": [
    "# to extract genres and keywords as list of words\n",
    "def genkeyw(obj):\n",
    "    l = []\n",
    "    for i in ast.literal_eval(obj):\n",
    "        l.append(i['name'])\n",
    "    return l"
   ]
  },
  {
   "cell_type": "code",
   "execution_count": 29,
   "id": "1f9dfadd",
   "metadata": {},
   "outputs": [],
   "source": [
    "new_df.genres = new_df.genres.apply(genkeyw)"
   ]
  },
  {
   "cell_type": "code",
   "execution_count": 30,
   "id": "d70330b2",
   "metadata": {},
   "outputs": [],
   "source": [
    "new_df.keywords = new_df.keywords.apply(genkeyw)"
   ]
  },
  {
   "cell_type": "code",
   "execution_count": 31,
   "id": "b5232e74",
   "metadata": {},
   "outputs": [
    {
     "data": {
      "text/html": [
       "<div>\n",
       "<style scoped>\n",
       "    .dataframe tbody tr th:only-of-type {\n",
       "        vertical-align: middle;\n",
       "    }\n",
       "\n",
       "    .dataframe tbody tr th {\n",
       "        vertical-align: top;\n",
       "    }\n",
       "\n",
       "    .dataframe thead th {\n",
       "        text-align: right;\n",
       "    }\n",
       "</style>\n",
       "<table border=\"1\" class=\"dataframe\">\n",
       "  <thead>\n",
       "    <tr style=\"text-align: right;\">\n",
       "      <th></th>\n",
       "      <th>id</th>\n",
       "      <th>genres</th>\n",
       "      <th>overview</th>\n",
       "      <th>keywords</th>\n",
       "      <th>title</th>\n",
       "      <th>movie_id</th>\n",
       "      <th>cast</th>\n",
       "      <th>crew</th>\n",
       "    </tr>\n",
       "  </thead>\n",
       "  <tbody>\n",
       "    <tr>\n",
       "      <th>818</th>\n",
       "      <td>109424</td>\n",
       "      <td>[Action, Drama, Thriller]</td>\n",
       "      <td>The true story of Captain Richard Phillips and...</td>\n",
       "      <td>[ship, hijacking, somalia, fisherman, blood, p...</td>\n",
       "      <td>Captain Phillips</td>\n",
       "      <td>109424</td>\n",
       "      <td>[{\"cast_id\": 10, \"character\": \"Captain Richard...</td>\n",
       "      <td>[{\"credit_id\": \"52fe4ab5c3a36847f81dd519\", \"de...</td>\n",
       "    </tr>\n",
       "  </tbody>\n",
       "</table>\n",
       "</div>"
      ],
      "text/plain": [
       "         id                     genres  \\\n",
       "818  109424  [Action, Drama, Thriller]   \n",
       "\n",
       "                                              overview  \\\n",
       "818  The true story of Captain Richard Phillips and...   \n",
       "\n",
       "                                              keywords             title  \\\n",
       "818  [ship, hijacking, somalia, fisherman, blood, p...  Captain Phillips   \n",
       "\n",
       "     movie_id                                               cast  \\\n",
       "818    109424  [{\"cast_id\": 10, \"character\": \"Captain Richard...   \n",
       "\n",
       "                                                  crew  \n",
       "818  [{\"credit_id\": \"52fe4ab5c3a36847f81dd519\", \"de...  "
      ]
     },
     "execution_count": 31,
     "metadata": {},
     "output_type": "execute_result"
    }
   ],
   "source": [
    "new_df.sample(1)"
   ]
  },
  {
   "cell_type": "code",
   "execution_count": 32,
   "id": "9b57894a",
   "metadata": {},
   "outputs": [],
   "source": [
    "# to fetch the name of the director of the movie\n",
    "def get_director(x):\n",
    "    for i in ast.literal_eval(x):\n",
    "        if i['job'] == 'Director':\n",
    "            return i['name']\n",
    "    return np.nan        "
   ]
  },
  {
   "cell_type": "code",
   "execution_count": 33,
   "id": "b43794c5",
   "metadata": {},
   "outputs": [],
   "source": [
    "new_df['director'] = new_df['crew'].apply(get_director)"
   ]
  },
  {
   "cell_type": "code",
   "execution_count": 34,
   "id": "69a1996c",
   "metadata": {},
   "outputs": [],
   "source": [
    "new_df.drop('crew', axis=1, inplace=True)"
   ]
  },
  {
   "cell_type": "code",
   "execution_count": 35,
   "id": "6828cc1a",
   "metadata": {},
   "outputs": [],
   "source": [
    "# to get the top 4 cast members of a movie\n",
    "def get_cast(x):\n",
    "    l=[]\n",
    "    for i in ast.literal_eval(x):\n",
    "        l.append(i['name'])\n",
    "    if(len(l)>4):\n",
    "        l = l[:4]\n",
    "    return l"
   ]
  },
  {
   "cell_type": "code",
   "execution_count": 36,
   "id": "6d6b3389",
   "metadata": {},
   "outputs": [],
   "source": [
    "new_df.cast = new_df.cast.apply(get_cast)"
   ]
  },
  {
   "cell_type": "code",
   "execution_count": 37,
   "id": "429ad588",
   "metadata": {},
   "outputs": [
    {
     "data": {
      "text/html": [
       "<div>\n",
       "<style scoped>\n",
       "    .dataframe tbody tr th:only-of-type {\n",
       "        vertical-align: middle;\n",
       "    }\n",
       "\n",
       "    .dataframe tbody tr th {\n",
       "        vertical-align: top;\n",
       "    }\n",
       "\n",
       "    .dataframe thead th {\n",
       "        text-align: right;\n",
       "    }\n",
       "</style>\n",
       "<table border=\"1\" class=\"dataframe\">\n",
       "  <thead>\n",
       "    <tr style=\"text-align: right;\">\n",
       "      <th></th>\n",
       "      <th>id</th>\n",
       "      <th>genres</th>\n",
       "      <th>overview</th>\n",
       "      <th>keywords</th>\n",
       "      <th>title</th>\n",
       "      <th>movie_id</th>\n",
       "      <th>cast</th>\n",
       "      <th>director</th>\n",
       "    </tr>\n",
       "  </thead>\n",
       "  <tbody>\n",
       "    <tr>\n",
       "      <th>1007</th>\n",
       "      <td>96724</td>\n",
       "      <td>[Drama, Romance]</td>\n",
       "      <td>Trapped in a loveless marriage, aristocrat Ann...</td>\n",
       "      <td>[based on novel, st. petersburg russia, high s...</td>\n",
       "      <td>Anna Karenina</td>\n",
       "      <td>96724</td>\n",
       "      <td>[Keira Knightley, Jude Law, Aaron Taylor-Johns...</td>\n",
       "      <td>Joe Wright</td>\n",
       "    </tr>\n",
       "  </tbody>\n",
       "</table>\n",
       "</div>"
      ],
      "text/plain": [
       "         id            genres  \\\n",
       "1007  96724  [Drama, Romance]   \n",
       "\n",
       "                                               overview  \\\n",
       "1007  Trapped in a loveless marriage, aristocrat Ann...   \n",
       "\n",
       "                                               keywords          title  \\\n",
       "1007  [based on novel, st. petersburg russia, high s...  Anna Karenina   \n",
       "\n",
       "      movie_id                                               cast    director  \n",
       "1007     96724  [Keira Knightley, Jude Law, Aaron Taylor-Johns...  Joe Wright  "
      ]
     },
     "execution_count": 37,
     "metadata": {},
     "output_type": "execute_result"
    }
   ],
   "source": [
    "new_df.sample(1)"
   ]
  },
  {
   "cell_type": "code",
   "execution_count": 38,
   "id": "d950f6e1",
   "metadata": {},
   "outputs": [
    {
     "data": {
      "text/plain": [
       "id           0\n",
       "genres       0\n",
       "overview     3\n",
       "keywords     0\n",
       "title        0\n",
       "movie_id     0\n",
       "cast         0\n",
       "director    30\n",
       "dtype: int64"
      ]
     },
     "execution_count": 38,
     "metadata": {},
     "output_type": "execute_result"
    }
   ],
   "source": [
    "new_df.isna().sum()"
   ]
  },
  {
   "cell_type": "code",
   "execution_count": 39,
   "id": "5356a127",
   "metadata": {},
   "outputs": [],
   "source": [
    "# Function to remove spaces and convert strings to lower case\n",
    "def remove_space(x):\n",
    "    if isinstance(x, list):\n",
    "        return [str.lower(i.replace(\" \", \"\")) for i in x]\n",
    "    else:\n",
    "        # Remove space from director and return empty string if director not present\n",
    "        if isinstance(x, str):\n",
    "            return str.lower(x.replace(\" \", \"\"))\n",
    "        else:\n",
    "            return ''"
   ]
  },
  {
   "cell_type": "code",
   "execution_count": 40,
   "id": "4ceb4778",
   "metadata": {},
   "outputs": [],
   "source": [
    "# converting all columns to proper format\n",
    "new_df.genres = new_df.genres.apply(remove_space)\n",
    "new_df.keywords = new_df.keywords.apply(remove_space)\n",
    "new_df.cast = new_df.cast.apply(remove_space)\n",
    "new_df.director = new_df.director.apply(remove_space)"
   ]
  },
  {
   "cell_type": "code",
   "execution_count": 41,
   "id": "964e3e68",
   "metadata": {},
   "outputs": [
    {
     "data": {
      "text/html": [
       "<div>\n",
       "<style scoped>\n",
       "    .dataframe tbody tr th:only-of-type {\n",
       "        vertical-align: middle;\n",
       "    }\n",
       "\n",
       "    .dataframe tbody tr th {\n",
       "        vertical-align: top;\n",
       "    }\n",
       "\n",
       "    .dataframe thead th {\n",
       "        text-align: right;\n",
       "    }\n",
       "</style>\n",
       "<table border=\"1\" class=\"dataframe\">\n",
       "  <thead>\n",
       "    <tr style=\"text-align: right;\">\n",
       "      <th></th>\n",
       "      <th>id</th>\n",
       "      <th>genres</th>\n",
       "      <th>overview</th>\n",
       "      <th>keywords</th>\n",
       "      <th>title</th>\n",
       "      <th>movie_id</th>\n",
       "      <th>cast</th>\n",
       "      <th>director</th>\n",
       "    </tr>\n",
       "  </thead>\n",
       "  <tbody>\n",
       "    <tr>\n",
       "      <th>0</th>\n",
       "      <td>19995</td>\n",
       "      <td>[action, adventure, fantasy, sciencefiction]</td>\n",
       "      <td>In the 22nd century, a paraplegic Marine is di...</td>\n",
       "      <td>[cultureclash, future, spacewar, spacecolony, ...</td>\n",
       "      <td>Avatar</td>\n",
       "      <td>19995</td>\n",
       "      <td>[samworthington, zoesaldana, sigourneyweaver, ...</td>\n",
       "      <td>jamescameron</td>\n",
       "    </tr>\n",
       "  </tbody>\n",
       "</table>\n",
       "</div>"
      ],
      "text/plain": [
       "      id                                        genres  \\\n",
       "0  19995  [action, adventure, fantasy, sciencefiction]   \n",
       "\n",
       "                                            overview  \\\n",
       "0  In the 22nd century, a paraplegic Marine is di...   \n",
       "\n",
       "                                            keywords   title  movie_id  \\\n",
       "0  [cultureclash, future, spacewar, spacecolony, ...  Avatar     19995   \n",
       "\n",
       "                                                cast      director  \n",
       "0  [samworthington, zoesaldana, sigourneyweaver, ...  jamescameron  "
      ]
     },
     "execution_count": 41,
     "metadata": {},
     "output_type": "execute_result"
    }
   ],
   "source": [
    "new_df.head(1)"
   ]
  },
  {
   "cell_type": "code",
   "execution_count": 42,
   "id": "8ca16318",
   "metadata": {},
   "outputs": [],
   "source": [
    "# creating tags column to store important words that represent a movie\n",
    "new_df['tags'] = new_df.genres + new_df.keywords + new_df.cast"
   ]
  },
  {
   "cell_type": "code",
   "execution_count": 43,
   "id": "ed7904ff",
   "metadata": {},
   "outputs": [],
   "source": [
    "new_df.drop(columns=['cast','genres','keywords'], inplace = True)"
   ]
  },
  {
   "cell_type": "code",
   "execution_count": 44,
   "id": "543ce0ff",
   "metadata": {},
   "outputs": [],
   "source": [
    "# adding director's name to tags\n",
    "for i in new_df.index:\n",
    "    new_df['tags'][i].append(new_df['director'][i])"
   ]
  },
  {
   "cell_type": "code",
   "execution_count": 45,
   "id": "cd160d40",
   "metadata": {},
   "outputs": [],
   "source": [
    "new_df.drop('director',axis = 1,inplace = True)"
   ]
  },
  {
   "cell_type": "code",
   "execution_count": 46,
   "id": "76fd9701",
   "metadata": {},
   "outputs": [],
   "source": [
    "# converting overview and title to string, if not already\n",
    "new_df.overview = new_df.overview.astype(str)\n",
    "new_df.title = new_df.title.astype(str)"
   ]
  },
  {
   "cell_type": "code",
   "execution_count": 47,
   "id": "3d880ac2",
   "metadata": {},
   "outputs": [],
   "source": [
    "# splitting overview string to a list of words\n",
    "new_df.overview = new_df.overview.apply(lambda x:x.split())"
   ]
  },
  {
   "cell_type": "code",
   "execution_count": 48,
   "id": "f1b8ff43",
   "metadata": {},
   "outputs": [],
   "source": [
    "# adding overview to tags\n",
    "new_df.tags = new_df.overview + new_df.tags"
   ]
  },
  {
   "cell_type": "code",
   "execution_count": 49,
   "id": "a7b9a64e",
   "metadata": {},
   "outputs": [],
   "source": [
    "new_df.drop(columns = ['overview','movie_id'], inplace =True)"
   ]
  },
  {
   "cell_type": "code",
   "execution_count": 50,
   "id": "70d78c34",
   "metadata": {},
   "outputs": [],
   "source": [
    "# converting tags back to a string with all important words\n",
    "new_df.tags = new_df.tags.apply(lambda x:\" \".join(x))"
   ]
  },
  {
   "cell_type": "code",
   "execution_count": 51,
   "id": "08a3fb26",
   "metadata": {},
   "outputs": [],
   "source": [
    "new_df.tags = new_df.tags.apply(lambda x: x.lower())"
   ]
  },
  {
   "cell_type": "code",
   "execution_count": 52,
   "id": "8ed3fa2b",
   "metadata": {},
   "outputs": [],
   "source": [
    "# importing for stemming of words\n",
    "import nltk\n",
    "from nltk.stem.porter import PorterStemmer\n",
    "ps = PorterStemmer()"
   ]
  },
  {
   "cell_type": "code",
   "execution_count": 54,
   "id": "e7d6d5ae",
   "metadata": {},
   "outputs": [],
   "source": [
    "# funtion to stem all words i.e. likes,liked,likely,liking = like\n",
    "# results in no exteremely similar words \n",
    "def stem(text):\n",
    "    list_of_words = []\n",
    "    \n",
    "    for word in text.split():\n",
    "        list_of_words.append(ps.stem(word))\n",
    "    \n",
    "    return \" \".join(list_of_words)"
   ]
  },
  {
   "cell_type": "code",
   "execution_count": 55,
   "id": "952cdb3c",
   "metadata": {},
   "outputs": [],
   "source": [
    "new_df.tags = new_df.tags.apply(stem)"
   ]
  },
  {
   "cell_type": "code",
   "execution_count": 56,
   "id": "21f20183",
   "metadata": {
    "scrolled": true
   },
   "outputs": [
    {
     "data": {
      "text/plain": [
       "(4803, 34756)"
      ]
     },
     "execution_count": 56,
     "metadata": {},
     "output_type": "execute_result"
    }
   ],
   "source": [
    "# Import Tf-idf vectorizer\n",
    "from sklearn.feature_extraction.text import TfidfVectorizer\n",
    "\n",
    "# Define a TF-IDF Vectorizer Object that also removes all english stop words\n",
    "tfidf = TfidfVectorizer(stop_words='english')\n",
    "\n",
    "# Replace NaN with an empty string\n",
    "new_df['tags'] = new_df['tags'].fillna('')\n",
    "\n",
    "# Construct the required TF-IDF matrix by fitting and transforming the data\n",
    "tfidf_matrix = tfidf.fit_transform(new_df['tags']).toarray()\n",
    "\n",
    "\n",
    "tfidf_matrix.shape"
   ]
  },
  {
   "cell_type": "code",
   "execution_count": 57,
   "id": "9d3b7247",
   "metadata": {},
   "outputs": [],
   "source": [
    "# Import Cosine Similarity\n",
    "from sklearn.metrics.pairwise import cosine_similarity\n",
    "\n",
    "# Compute the cosine similarity matrix\n",
    "similarity = cosine_similarity(tfidf_matrix)"
   ]
  },
  {
   "cell_type": "code",
   "execution_count": 58,
   "id": "bb613bf1",
   "metadata": {},
   "outputs": [
    {
     "data": {
      "text/plain": [
       "(4803, 4803)"
      ]
     },
     "execution_count": 58,
     "metadata": {},
     "output_type": "execute_result"
    }
   ],
   "source": [
    "similarity.shape"
   ]
  },
  {
   "cell_type": "code",
   "execution_count": 61,
   "id": "ab6de7ef",
   "metadata": {},
   "outputs": [],
   "source": [
    "# recommendation function\n",
    "def CB_recomend(movie):\n",
    "    # fetch index\n",
    "    idx = new_df[new_df['title'] == movie].index[0]\n",
    "    # extract 5 most similar movies\n",
    "    sim_movies = sorted(list(enumerate(similarity[idx])), key = lambda x:x[1], reverse =True)[1:6]\n",
    "    \n",
    "    # display 5 most similar movies\n",
    "    for i in sim_movies:\n",
    "        print(new_df.iloc[i[0]].title)"
   ]
  },
  {
   "cell_type": "code",
   "execution_count": 62,
   "id": "aaef2941",
   "metadata": {},
   "outputs": [
    {
     "name": "stdout",
     "output_type": "stream",
     "text": [
      "The Dark Knight\n",
      "The Dark Knight Rises\n",
      "Batman\n",
      "Batman Returns\n",
      "Batman v Superman: Dawn of Justice\n"
     ]
    }
   ],
   "source": [
    "CB_recomend('Batman Begins')"
   ]
  },
  {
   "cell_type": "markdown",
   "id": "dd18796c",
   "metadata": {},
   "source": [
    "# Collaborative Filtering Recommendation System"
   ]
  },
  {
   "cell_type": "raw",
   "id": "9b0a4528",
   "metadata": {},
   "source": [
    "This database does not have user ratings, thus colaborative filtering is not feasible for this data.\n",
    "\n",
    "In general we can use collaborative filtering in 2 ways:\n",
    "- user-based : Identify similar users and recommend items liked by a similar user\n",
    "- item-based : Identify similar items and recommend to users who like a similar item\n",
    "\n",
    "In most cases item-based collaborative filtering gives better recommendations as, there are ambiguous factors that affect user behaviour, i.e. 2 users who behaved similarly in n number of scenarios might behave in opposite ways to the (n+1)th scenario. \n",
    "\n",
    "We can generate a dummy ratings database to continue with collaborative filtering."
   ]
  },
  {
   "cell_type": "code",
   "execution_count": 65,
   "id": "bf072b4a",
   "metadata": {},
   "outputs": [
    {
     "data": {
      "text/html": [
       "<div>\n",
       "<style scoped>\n",
       "    .dataframe tbody tr th:only-of-type {\n",
       "        vertical-align: middle;\n",
       "    }\n",
       "\n",
       "    .dataframe tbody tr th {\n",
       "        vertical-align: top;\n",
       "    }\n",
       "\n",
       "    .dataframe thead th {\n",
       "        text-align: right;\n",
       "    }\n",
       "</style>\n",
       "<table border=\"1\" class=\"dataframe\">\n",
       "  <thead>\n",
       "    <tr style=\"text-align: right;\">\n",
       "      <th></th>\n",
       "      <th>id</th>\n",
       "      <th>title</th>\n",
       "      <th>tags</th>\n",
       "    </tr>\n",
       "  </thead>\n",
       "  <tbody>\n",
       "    <tr>\n",
       "      <th>0</th>\n",
       "      <td>19995</td>\n",
       "      <td>Avatar</td>\n",
       "      <td>in the 22nd century, a parapleg marin is dispa...</td>\n",
       "    </tr>\n",
       "    <tr>\n",
       "      <th>1</th>\n",
       "      <td>285</td>\n",
       "      <td>Pirates of the Caribbean: At World's End</td>\n",
       "      <td>captain barbossa, long believ to be dead, ha c...</td>\n",
       "    </tr>\n",
       "    <tr>\n",
       "      <th>2</th>\n",
       "      <td>206647</td>\n",
       "      <td>Spectre</td>\n",
       "      <td>a cryptic messag from bond’ past send him on a...</td>\n",
       "    </tr>\n",
       "    <tr>\n",
       "      <th>3</th>\n",
       "      <td>49026</td>\n",
       "      <td>The Dark Knight Rises</td>\n",
       "      <td>follow the death of district attorney harvey d...</td>\n",
       "    </tr>\n",
       "    <tr>\n",
       "      <th>4</th>\n",
       "      <td>49529</td>\n",
       "      <td>John Carter</td>\n",
       "      <td>john carter is a war-weary, former militari ca...</td>\n",
       "    </tr>\n",
       "    <tr>\n",
       "      <th>...</th>\n",
       "      <td>...</td>\n",
       "      <td>...</td>\n",
       "      <td>...</td>\n",
       "    </tr>\n",
       "    <tr>\n",
       "      <th>4798</th>\n",
       "      <td>9367</td>\n",
       "      <td>El Mariachi</td>\n",
       "      <td>el mariachi just want to play hi guitar and ca...</td>\n",
       "    </tr>\n",
       "    <tr>\n",
       "      <th>4799</th>\n",
       "      <td>72766</td>\n",
       "      <td>Newlyweds</td>\n",
       "      <td>a newlyw couple' honeymoon is upend by the arr...</td>\n",
       "    </tr>\n",
       "    <tr>\n",
       "      <th>4800</th>\n",
       "      <td>231617</td>\n",
       "      <td>Signed, Sealed, Delivered</td>\n",
       "      <td>\"signed, sealed, delivered\" introduc a dedic q...</td>\n",
       "    </tr>\n",
       "    <tr>\n",
       "      <th>4801</th>\n",
       "      <td>126186</td>\n",
       "      <td>Shanghai Calling</td>\n",
       "      <td>when ambiti new york attorney sam is sent to s...</td>\n",
       "    </tr>\n",
       "    <tr>\n",
       "      <th>4802</th>\n",
       "      <td>25975</td>\n",
       "      <td>My Date with Drew</td>\n",
       "      <td>ever sinc the second grade when he first saw h...</td>\n",
       "    </tr>\n",
       "  </tbody>\n",
       "</table>\n",
       "<p>4803 rows × 3 columns</p>\n",
       "</div>"
      ],
      "text/plain": [
       "          id                                     title  \\\n",
       "0      19995                                    Avatar   \n",
       "1        285  Pirates of the Caribbean: At World's End   \n",
       "2     206647                                   Spectre   \n",
       "3      49026                     The Dark Knight Rises   \n",
       "4      49529                               John Carter   \n",
       "...      ...                                       ...   \n",
       "4798    9367                               El Mariachi   \n",
       "4799   72766                                 Newlyweds   \n",
       "4800  231617                 Signed, Sealed, Delivered   \n",
       "4801  126186                          Shanghai Calling   \n",
       "4802   25975                         My Date with Drew   \n",
       "\n",
       "                                                   tags  \n",
       "0     in the 22nd century, a parapleg marin is dispa...  \n",
       "1     captain barbossa, long believ to be dead, ha c...  \n",
       "2     a cryptic messag from bond’ past send him on a...  \n",
       "3     follow the death of district attorney harvey d...  \n",
       "4     john carter is a war-weary, former militari ca...  \n",
       "...                                                 ...  \n",
       "4798  el mariachi just want to play hi guitar and ca...  \n",
       "4799  a newlyw couple' honeymoon is upend by the arr...  \n",
       "4800  \"signed, sealed, delivered\" introduc a dedic q...  \n",
       "4801  when ambiti new york attorney sam is sent to s...  \n",
       "4802  ever sinc the second grade when he first saw h...  \n",
       "\n",
       "[4803 rows x 3 columns]"
      ]
     },
     "execution_count": 65,
     "metadata": {},
     "output_type": "execute_result"
    }
   ],
   "source": [
    "new_df"
   ]
  },
  {
   "cell_type": "code",
   "execution_count": 66,
   "id": "8f8be956",
   "metadata": {},
   "outputs": [],
   "source": [
    "# code generated ratings\n",
    "ratings = pd.read_csv('ratings.csv')"
   ]
  },
  {
   "cell_type": "code",
   "execution_count": 67,
   "id": "cbd924b5",
   "metadata": {},
   "outputs": [
    {
     "data": {
      "text/plain": [
       "3076"
      ]
     },
     "execution_count": 67,
     "metadata": {},
     "output_type": "execute_result"
    }
   ],
   "source": [
    "# we have 3042 out of 4803 movies that are rated\n",
    "len(sorted(ratings.groupby('movie_id').count()['rating'], reverse=True))"
   ]
  },
  {
   "cell_type": "code",
   "execution_count": 68,
   "id": "e796963e",
   "metadata": {},
   "outputs": [
    {
     "data": {
      "text/html": [
       "<div>\n",
       "<style scoped>\n",
       "    .dataframe tbody tr th:only-of-type {\n",
       "        vertical-align: middle;\n",
       "    }\n",
       "\n",
       "    .dataframe tbody tr th {\n",
       "        vertical-align: top;\n",
       "    }\n",
       "\n",
       "    .dataframe thead th {\n",
       "        text-align: right;\n",
       "    }\n",
       "</style>\n",
       "<table border=\"1\" class=\"dataframe\">\n",
       "  <thead>\n",
       "    <tr style=\"text-align: right;\">\n",
       "      <th></th>\n",
       "      <th>movie_id</th>\n",
       "      <th>user_id</th>\n",
       "      <th>rating</th>\n",
       "      <th>id</th>\n",
       "      <th>title</th>\n",
       "      <th>tags</th>\n",
       "    </tr>\n",
       "  </thead>\n",
       "  <tbody>\n",
       "    <tr>\n",
       "      <th>0</th>\n",
       "      <td>96</td>\n",
       "      <td>100</td>\n",
       "      <td>1.742628</td>\n",
       "      <td>96</td>\n",
       "      <td>Beverly Hills Cop II</td>\n",
       "      <td>detroit cop, axel foley head for the land of s...</td>\n",
       "    </tr>\n",
       "    <tr>\n",
       "      <th>1</th>\n",
       "      <td>107</td>\n",
       "      <td>161</td>\n",
       "      <td>4.240211</td>\n",
       "      <td>107</td>\n",
       "      <td>Snatch</td>\n",
       "      <td>the second film from british director guy ritc...</td>\n",
       "    </tr>\n",
       "    <tr>\n",
       "      <th>2</th>\n",
       "      <td>10030</td>\n",
       "      <td>175</td>\n",
       "      <td>0.979824</td>\n",
       "      <td>10030</td>\n",
       "      <td>Good Luck Chuck</td>\n",
       "      <td>curs sinc childhood, dentist charli kagan cann...</td>\n",
       "    </tr>\n",
       "    <tr>\n",
       "      <th>3</th>\n",
       "      <td>81188</td>\n",
       "      <td>107</td>\n",
       "      <td>2.957260</td>\n",
       "      <td>81188</td>\n",
       "      <td>Rise of the Guardians</td>\n",
       "      <td>when an evil spirit known as pitch lay down th...</td>\n",
       "    </tr>\n",
       "    <tr>\n",
       "      <th>4</th>\n",
       "      <td>155</td>\n",
       "      <td>215</td>\n",
       "      <td>4.009831</td>\n",
       "      <td>155</td>\n",
       "      <td>The Dark Knight</td>\n",
       "      <td>batman rais the stake in hi war on crime. with...</td>\n",
       "    </tr>\n",
       "    <tr>\n",
       "      <th>...</th>\n",
       "      <td>...</td>\n",
       "      <td>...</td>\n",
       "      <td>...</td>\n",
       "      <td>...</td>\n",
       "      <td>...</td>\n",
       "      <td>...</td>\n",
       "    </tr>\n",
       "    <tr>\n",
       "      <th>19995</th>\n",
       "      <td>49524</td>\n",
       "      <td>159</td>\n",
       "      <td>1.264297</td>\n",
       "      <td>49524</td>\n",
       "      <td>R.I.P.D.</td>\n",
       "      <td>a recent slain cop join a team of undead polic...</td>\n",
       "    </tr>\n",
       "    <tr>\n",
       "      <th>19996</th>\n",
       "      <td>8909</td>\n",
       "      <td>170</td>\n",
       "      <td>3.548074</td>\n",
       "      <td>8909</td>\n",
       "      <td>Wanted</td>\n",
       "      <td>doormat wesley gibson discov that hi recent mu...</td>\n",
       "    </tr>\n",
       "    <tr>\n",
       "      <th>19997</th>\n",
       "      <td>70160</td>\n",
       "      <td>112</td>\n",
       "      <td>2.974780</td>\n",
       "      <td>70160</td>\n",
       "      <td>The Hunger Games</td>\n",
       "      <td>everi year in the ruin of what wa onc north am...</td>\n",
       "    </tr>\n",
       "    <tr>\n",
       "      <th>19998</th>\n",
       "      <td>87421</td>\n",
       "      <td>132</td>\n",
       "      <td>5.000000</td>\n",
       "      <td>87421</td>\n",
       "      <td>Riddick</td>\n",
       "      <td>betray by hi own kind and left for dead on a d...</td>\n",
       "    </tr>\n",
       "    <tr>\n",
       "      <th>19999</th>\n",
       "      <td>8467</td>\n",
       "      <td>316</td>\n",
       "      <td>3.631409</td>\n",
       "      <td>8467</td>\n",
       "      <td>Dumb and Dumber</td>\n",
       "      <td>lloyd and harri are two men whose stupid is re...</td>\n",
       "    </tr>\n",
       "  </tbody>\n",
       "</table>\n",
       "<p>20000 rows × 6 columns</p>\n",
       "</div>"
      ],
      "text/plain": [
       "       movie_id  user_id    rating     id                  title  \\\n",
       "0            96      100  1.742628     96   Beverly Hills Cop II   \n",
       "1           107      161  4.240211    107                 Snatch   \n",
       "2         10030      175  0.979824  10030        Good Luck Chuck   \n",
       "3         81188      107  2.957260  81188  Rise of the Guardians   \n",
       "4           155      215  4.009831    155        The Dark Knight   \n",
       "...         ...      ...       ...    ...                    ...   \n",
       "19995     49524      159  1.264297  49524               R.I.P.D.   \n",
       "19996      8909      170  3.548074   8909                 Wanted   \n",
       "19997     70160      112  2.974780  70160       The Hunger Games   \n",
       "19998     87421      132  5.000000  87421                Riddick   \n",
       "19999      8467      316  3.631409   8467        Dumb and Dumber   \n",
       "\n",
       "                                                    tags  \n",
       "0      detroit cop, axel foley head for the land of s...  \n",
       "1      the second film from british director guy ritc...  \n",
       "2      curs sinc childhood, dentist charli kagan cann...  \n",
       "3      when an evil spirit known as pitch lay down th...  \n",
       "4      batman rais the stake in hi war on crime. with...  \n",
       "...                                                  ...  \n",
       "19995  a recent slain cop join a team of undead polic...  \n",
       "19996  doormat wesley gibson discov that hi recent mu...  \n",
       "19997  everi year in the ruin of what wa onc north am...  \n",
       "19998  betray by hi own kind and left for dead on a d...  \n",
       "19999  lloyd and harri are two men whose stupid is re...  \n",
       "\n",
       "[20000 rows x 6 columns]"
      ]
     },
     "execution_count": 68,
     "metadata": {},
     "output_type": "execute_result"
    }
   ],
   "source": [
    "ratings_with_title = ratings.merge(new_df, left_on = 'movie_id', right_on = 'id')\n",
    "ratings_with_title"
   ]
  },
  {
   "cell_type": "code",
   "execution_count": 69,
   "id": "e6fad81d",
   "metadata": {},
   "outputs": [],
   "source": [
    "# we consider ratings from users who rate movies frequently, atleast 50 ratings\n",
    "woke_users = ratings_with_title.groupby('user_id').count()['rating'][ratings_with_title.groupby('user_id')\n",
    "                                                               .count()['rating'] >= 50].index"
   ]
  },
  {
   "cell_type": "code",
   "execution_count": 70,
   "id": "ea035714",
   "metadata": {},
   "outputs": [
    {
     "data": {
      "text/html": [
       "<div>\n",
       "<style scoped>\n",
       "    .dataframe tbody tr th:only-of-type {\n",
       "        vertical-align: middle;\n",
       "    }\n",
       "\n",
       "    .dataframe tbody tr th {\n",
       "        vertical-align: top;\n",
       "    }\n",
       "\n",
       "    .dataframe thead th {\n",
       "        text-align: right;\n",
       "    }\n",
       "</style>\n",
       "<table border=\"1\" class=\"dataframe\">\n",
       "  <thead>\n",
       "    <tr style=\"text-align: right;\">\n",
       "      <th></th>\n",
       "      <th>movie_id</th>\n",
       "      <th>user_id</th>\n",
       "      <th>rating</th>\n",
       "      <th>id</th>\n",
       "      <th>title</th>\n",
       "      <th>tags</th>\n",
       "    </tr>\n",
       "  </thead>\n",
       "  <tbody>\n",
       "    <tr>\n",
       "      <th>0</th>\n",
       "      <td>96</td>\n",
       "      <td>100</td>\n",
       "      <td>1.742628</td>\n",
       "      <td>96</td>\n",
       "      <td>Beverly Hills Cop II</td>\n",
       "      <td>detroit cop, axel foley head for the land of s...</td>\n",
       "    </tr>\n",
       "    <tr>\n",
       "      <th>1</th>\n",
       "      <td>107</td>\n",
       "      <td>161</td>\n",
       "      <td>4.240211</td>\n",
       "      <td>107</td>\n",
       "      <td>Snatch</td>\n",
       "      <td>the second film from british director guy ritc...</td>\n",
       "    </tr>\n",
       "    <tr>\n",
       "      <th>2</th>\n",
       "      <td>10030</td>\n",
       "      <td>175</td>\n",
       "      <td>0.979824</td>\n",
       "      <td>10030</td>\n",
       "      <td>Good Luck Chuck</td>\n",
       "      <td>curs sinc childhood, dentist charli kagan cann...</td>\n",
       "    </tr>\n",
       "    <tr>\n",
       "      <th>3</th>\n",
       "      <td>81188</td>\n",
       "      <td>107</td>\n",
       "      <td>2.957260</td>\n",
       "      <td>81188</td>\n",
       "      <td>Rise of the Guardians</td>\n",
       "      <td>when an evil spirit known as pitch lay down th...</td>\n",
       "    </tr>\n",
       "    <tr>\n",
       "      <th>6</th>\n",
       "      <td>132363</td>\n",
       "      <td>160</td>\n",
       "      <td>3.633031</td>\n",
       "      <td>132363</td>\n",
       "      <td>The Butler</td>\n",
       "      <td>a look at the life of cecil gain who serv eigh...</td>\n",
       "    </tr>\n",
       "    <tr>\n",
       "      <th>...</th>\n",
       "      <td>...</td>\n",
       "      <td>...</td>\n",
       "      <td>...</td>\n",
       "      <td>...</td>\n",
       "      <td>...</td>\n",
       "      <td>...</td>\n",
       "    </tr>\n",
       "    <tr>\n",
       "      <th>19994</th>\n",
       "      <td>9367</td>\n",
       "      <td>160</td>\n",
       "      <td>4.191092</td>\n",
       "      <td>9367</td>\n",
       "      <td>El Mariachi</td>\n",
       "      <td>el mariachi just want to play hi guitar and ca...</td>\n",
       "    </tr>\n",
       "    <tr>\n",
       "      <th>19995</th>\n",
       "      <td>49524</td>\n",
       "      <td>159</td>\n",
       "      <td>1.264297</td>\n",
       "      <td>49524</td>\n",
       "      <td>R.I.P.D.</td>\n",
       "      <td>a recent slain cop join a team of undead polic...</td>\n",
       "    </tr>\n",
       "    <tr>\n",
       "      <th>19996</th>\n",
       "      <td>8909</td>\n",
       "      <td>170</td>\n",
       "      <td>3.548074</td>\n",
       "      <td>8909</td>\n",
       "      <td>Wanted</td>\n",
       "      <td>doormat wesley gibson discov that hi recent mu...</td>\n",
       "    </tr>\n",
       "    <tr>\n",
       "      <th>19997</th>\n",
       "      <td>70160</td>\n",
       "      <td>112</td>\n",
       "      <td>2.974780</td>\n",
       "      <td>70160</td>\n",
       "      <td>The Hunger Games</td>\n",
       "      <td>everi year in the ruin of what wa onc north am...</td>\n",
       "    </tr>\n",
       "    <tr>\n",
       "      <th>19998</th>\n",
       "      <td>87421</td>\n",
       "      <td>132</td>\n",
       "      <td>5.000000</td>\n",
       "      <td>87421</td>\n",
       "      <td>Riddick</td>\n",
       "      <td>betray by hi own kind and left for dead on a d...</td>\n",
       "    </tr>\n",
       "  </tbody>\n",
       "</table>\n",
       "<p>14938 rows × 6 columns</p>\n",
       "</div>"
      ],
      "text/plain": [
       "       movie_id  user_id    rating      id                  title  \\\n",
       "0            96      100  1.742628      96   Beverly Hills Cop II   \n",
       "1           107      161  4.240211     107                 Snatch   \n",
       "2         10030      175  0.979824   10030        Good Luck Chuck   \n",
       "3         81188      107  2.957260   81188  Rise of the Guardians   \n",
       "6        132363      160  3.633031  132363             The Butler   \n",
       "...         ...      ...       ...     ...                    ...   \n",
       "19994      9367      160  4.191092    9367            El Mariachi   \n",
       "19995     49524      159  1.264297   49524               R.I.P.D.   \n",
       "19996      8909      170  3.548074    8909                 Wanted   \n",
       "19997     70160      112  2.974780   70160       The Hunger Games   \n",
       "19998     87421      132  5.000000   87421                Riddick   \n",
       "\n",
       "                                                    tags  \n",
       "0      detroit cop, axel foley head for the land of s...  \n",
       "1      the second film from british director guy ritc...  \n",
       "2      curs sinc childhood, dentist charli kagan cann...  \n",
       "3      when an evil spirit known as pitch lay down th...  \n",
       "6      a look at the life of cecil gain who serv eigh...  \n",
       "...                                                  ...  \n",
       "19994  el mariachi just want to play hi guitar and ca...  \n",
       "19995  a recent slain cop join a team of undead polic...  \n",
       "19996  doormat wesley gibson discov that hi recent mu...  \n",
       "19997  everi year in the ruin of what wa onc north am...  \n",
       "19998  betray by hi own kind and left for dead on a d...  \n",
       "\n",
       "[14938 rows x 6 columns]"
      ]
     },
     "execution_count": 70,
     "metadata": {},
     "output_type": "execute_result"
    }
   ],
   "source": [
    "filtered_ratings = ratings_with_title[ratings_with_title['user_id'].isin(woke_users)]\n",
    "filtered_ratings"
   ]
  },
  {
   "cell_type": "code",
   "execution_count": 71,
   "id": "998685f5",
   "metadata": {},
   "outputs": [],
   "source": [
    "# we only consider movies rated by atleast 3 users\n",
    "more_rated_movies =filtered_ratings.groupby('movie_id').count()['rating'][\n",
    "    filtered_ratings.groupby('movie_id').count()['rating'] > 3].index"
   ]
  },
  {
   "cell_type": "code",
   "execution_count": 72,
   "id": "66b88fac",
   "metadata": {},
   "outputs": [],
   "source": [
    "# all credible ratings\n",
    "final_ratings = filtered_ratings[filtered_ratings['movie_id'].isin(more_rated_movies)]"
   ]
  },
  {
   "cell_type": "code",
   "execution_count": 73,
   "id": "1dd36dd1",
   "metadata": {},
   "outputs": [],
   "source": [
    "final_ratings.reset_index(inplace = True)"
   ]
  },
  {
   "cell_type": "code",
   "execution_count": 74,
   "id": "c51da59e",
   "metadata": {},
   "outputs": [
    {
     "name": "stderr",
     "output_type": "stream",
     "text": [
      "C:\\Users\\Kunal\\AppData\\Local\\Temp\\ipykernel_8280\\3203548128.py:1: SettingWithCopyWarning: \n",
      "A value is trying to be set on a copy of a slice from a DataFrame\n",
      "\n",
      "See the caveats in the documentation: https://pandas.pydata.org/pandas-docs/stable/user_guide/indexing.html#returning-a-view-versus-a-copy\n",
      "  final_ratings.drop('index', axis =1, inplace = True)\n"
     ]
    }
   ],
   "source": [
    "final_ratings.drop('index', axis =1, inplace = True)"
   ]
  },
  {
   "cell_type": "code",
   "execution_count": 75,
   "id": "304b74f0",
   "metadata": {},
   "outputs": [
    {
     "data": {
      "text/html": [
       "<div>\n",
       "<style scoped>\n",
       "    .dataframe tbody tr th:only-of-type {\n",
       "        vertical-align: middle;\n",
       "    }\n",
       "\n",
       "    .dataframe tbody tr th {\n",
       "        vertical-align: top;\n",
       "    }\n",
       "\n",
       "    .dataframe thead th {\n",
       "        text-align: right;\n",
       "    }\n",
       "</style>\n",
       "<table border=\"1\" class=\"dataframe\">\n",
       "  <thead>\n",
       "    <tr style=\"text-align: right;\">\n",
       "      <th></th>\n",
       "      <th>movie_id</th>\n",
       "      <th>user_id</th>\n",
       "      <th>rating</th>\n",
       "      <th>id</th>\n",
       "      <th>title</th>\n",
       "      <th>tags</th>\n",
       "    </tr>\n",
       "  </thead>\n",
       "  <tbody>\n",
       "    <tr>\n",
       "      <th>0</th>\n",
       "      <td>96</td>\n",
       "      <td>100</td>\n",
       "      <td>1.742628</td>\n",
       "      <td>96</td>\n",
       "      <td>Beverly Hills Cop II</td>\n",
       "      <td>detroit cop, axel foley head for the land of s...</td>\n",
       "    </tr>\n",
       "    <tr>\n",
       "      <th>1</th>\n",
       "      <td>107</td>\n",
       "      <td>161</td>\n",
       "      <td>4.240211</td>\n",
       "      <td>107</td>\n",
       "      <td>Snatch</td>\n",
       "      <td>the second film from british director guy ritc...</td>\n",
       "    </tr>\n",
       "    <tr>\n",
       "      <th>2</th>\n",
       "      <td>10030</td>\n",
       "      <td>175</td>\n",
       "      <td>0.979824</td>\n",
       "      <td>10030</td>\n",
       "      <td>Good Luck Chuck</td>\n",
       "      <td>curs sinc childhood, dentist charli kagan cann...</td>\n",
       "    </tr>\n",
       "    <tr>\n",
       "      <th>3</th>\n",
       "      <td>81188</td>\n",
       "      <td>107</td>\n",
       "      <td>2.957260</td>\n",
       "      <td>81188</td>\n",
       "      <td>Rise of the Guardians</td>\n",
       "      <td>when an evil spirit known as pitch lay down th...</td>\n",
       "    </tr>\n",
       "    <tr>\n",
       "      <th>4</th>\n",
       "      <td>132363</td>\n",
       "      <td>160</td>\n",
       "      <td>3.633031</td>\n",
       "      <td>132363</td>\n",
       "      <td>The Butler</td>\n",
       "      <td>a look at the life of cecil gain who serv eigh...</td>\n",
       "    </tr>\n",
       "    <tr>\n",
       "      <th>...</th>\n",
       "      <td>...</td>\n",
       "      <td>...</td>\n",
       "      <td>...</td>\n",
       "      <td>...</td>\n",
       "      <td>...</td>\n",
       "      <td>...</td>\n",
       "    </tr>\n",
       "    <tr>\n",
       "      <th>12196</th>\n",
       "      <td>37735</td>\n",
       "      <td>189</td>\n",
       "      <td>3.811460</td>\n",
       "      <td>37735</td>\n",
       "      <td>Easy A</td>\n",
       "      <td>after a littl white lie about lose her virgin ...</td>\n",
       "    </tr>\n",
       "    <tr>\n",
       "      <th>12197</th>\n",
       "      <td>49524</td>\n",
       "      <td>159</td>\n",
       "      <td>1.264297</td>\n",
       "      <td>49524</td>\n",
       "      <td>R.I.P.D.</td>\n",
       "      <td>a recent slain cop join a team of undead polic...</td>\n",
       "    </tr>\n",
       "    <tr>\n",
       "      <th>12198</th>\n",
       "      <td>8909</td>\n",
       "      <td>170</td>\n",
       "      <td>3.548074</td>\n",
       "      <td>8909</td>\n",
       "      <td>Wanted</td>\n",
       "      <td>doormat wesley gibson discov that hi recent mu...</td>\n",
       "    </tr>\n",
       "    <tr>\n",
       "      <th>12199</th>\n",
       "      <td>70160</td>\n",
       "      <td>112</td>\n",
       "      <td>2.974780</td>\n",
       "      <td>70160</td>\n",
       "      <td>The Hunger Games</td>\n",
       "      <td>everi year in the ruin of what wa onc north am...</td>\n",
       "    </tr>\n",
       "    <tr>\n",
       "      <th>12200</th>\n",
       "      <td>87421</td>\n",
       "      <td>132</td>\n",
       "      <td>5.000000</td>\n",
       "      <td>87421</td>\n",
       "      <td>Riddick</td>\n",
       "      <td>betray by hi own kind and left for dead on a d...</td>\n",
       "    </tr>\n",
       "  </tbody>\n",
       "</table>\n",
       "<p>12201 rows × 6 columns</p>\n",
       "</div>"
      ],
      "text/plain": [
       "       movie_id  user_id    rating      id                  title  \\\n",
       "0            96      100  1.742628      96   Beverly Hills Cop II   \n",
       "1           107      161  4.240211     107                 Snatch   \n",
       "2         10030      175  0.979824   10030        Good Luck Chuck   \n",
       "3         81188      107  2.957260   81188  Rise of the Guardians   \n",
       "4        132363      160  3.633031  132363             The Butler   \n",
       "...         ...      ...       ...     ...                    ...   \n",
       "12196     37735      189  3.811460   37735                 Easy A   \n",
       "12197     49524      159  1.264297   49524               R.I.P.D.   \n",
       "12198      8909      170  3.548074    8909                 Wanted   \n",
       "12199     70160      112  2.974780   70160       The Hunger Games   \n",
       "12200     87421      132  5.000000   87421                Riddick   \n",
       "\n",
       "                                                    tags  \n",
       "0      detroit cop, axel foley head for the land of s...  \n",
       "1      the second film from british director guy ritc...  \n",
       "2      curs sinc childhood, dentist charli kagan cann...  \n",
       "3      when an evil spirit known as pitch lay down th...  \n",
       "4      a look at the life of cecil gain who serv eigh...  \n",
       "...                                                  ...  \n",
       "12196  after a littl white lie about lose her virgin ...  \n",
       "12197  a recent slain cop join a team of undead polic...  \n",
       "12198  doormat wesley gibson discov that hi recent mu...  \n",
       "12199  everi year in the ruin of what wa onc north am...  \n",
       "12200  betray by hi own kind and left for dead on a d...  \n",
       "\n",
       "[12201 rows x 6 columns]"
      ]
     },
     "execution_count": 75,
     "metadata": {},
     "output_type": "execute_result"
    }
   ],
   "source": [
    "final_ratings"
   ]
  },
  {
   "cell_type": "code",
   "execution_count": 76,
   "id": "adde2d38",
   "metadata": {},
   "outputs": [
    {
     "data": {
      "text/html": [
       "<div>\n",
       "<style scoped>\n",
       "    .dataframe tbody tr th:only-of-type {\n",
       "        vertical-align: middle;\n",
       "    }\n",
       "\n",
       "    .dataframe tbody tr th {\n",
       "        vertical-align: top;\n",
       "    }\n",
       "\n",
       "    .dataframe thead th {\n",
       "        text-align: right;\n",
       "    }\n",
       "</style>\n",
       "<table border=\"1\" class=\"dataframe\">\n",
       "  <thead>\n",
       "    <tr style=\"text-align: right;\">\n",
       "      <th>user_id</th>\n",
       "      <th>100</th>\n",
       "      <th>101</th>\n",
       "      <th>102</th>\n",
       "      <th>103</th>\n",
       "      <th>104</th>\n",
       "      <th>105</th>\n",
       "      <th>106</th>\n",
       "      <th>107</th>\n",
       "      <th>108</th>\n",
       "      <th>109</th>\n",
       "      <th>...</th>\n",
       "      <th>191</th>\n",
       "      <th>192</th>\n",
       "      <th>193</th>\n",
       "      <th>195</th>\n",
       "      <th>199</th>\n",
       "      <th>200</th>\n",
       "      <th>202</th>\n",
       "      <th>203</th>\n",
       "      <th>217</th>\n",
       "      <th>1000</th>\n",
       "    </tr>\n",
       "    <tr>\n",
       "      <th>title</th>\n",
       "      <th></th>\n",
       "      <th></th>\n",
       "      <th></th>\n",
       "      <th></th>\n",
       "      <th></th>\n",
       "      <th></th>\n",
       "      <th></th>\n",
       "      <th></th>\n",
       "      <th></th>\n",
       "      <th></th>\n",
       "      <th></th>\n",
       "      <th></th>\n",
       "      <th></th>\n",
       "      <th></th>\n",
       "      <th></th>\n",
       "      <th></th>\n",
       "      <th></th>\n",
       "      <th></th>\n",
       "      <th></th>\n",
       "      <th></th>\n",
       "      <th></th>\n",
       "    </tr>\n",
       "  </thead>\n",
       "  <tbody>\n",
       "    <tr>\n",
       "      <th>(500) Days of Summer</th>\n",
       "      <td>NaN</td>\n",
       "      <td>NaN</td>\n",
       "      <td>NaN</td>\n",
       "      <td>NaN</td>\n",
       "      <td>NaN</td>\n",
       "      <td>1.299528</td>\n",
       "      <td>NaN</td>\n",
       "      <td>NaN</td>\n",
       "      <td>NaN</td>\n",
       "      <td>1.558574</td>\n",
       "      <td>...</td>\n",
       "      <td>NaN</td>\n",
       "      <td>NaN</td>\n",
       "      <td>NaN</td>\n",
       "      <td>NaN</td>\n",
       "      <td>NaN</td>\n",
       "      <td>NaN</td>\n",
       "      <td>NaN</td>\n",
       "      <td>NaN</td>\n",
       "      <td>NaN</td>\n",
       "      <td>NaN</td>\n",
       "    </tr>\n",
       "    <tr>\n",
       "      <th>10 Cloverfield Lane</th>\n",
       "      <td>NaN</td>\n",
       "      <td>NaN</td>\n",
       "      <td>3.742261</td>\n",
       "      <td>NaN</td>\n",
       "      <td>NaN</td>\n",
       "      <td>0.000000</td>\n",
       "      <td>NaN</td>\n",
       "      <td>NaN</td>\n",
       "      <td>NaN</td>\n",
       "      <td>NaN</td>\n",
       "      <td>...</td>\n",
       "      <td>4.562562</td>\n",
       "      <td>NaN</td>\n",
       "      <td>NaN</td>\n",
       "      <td>NaN</td>\n",
       "      <td>NaN</td>\n",
       "      <td>NaN</td>\n",
       "      <td>NaN</td>\n",
       "      <td>NaN</td>\n",
       "      <td>NaN</td>\n",
       "      <td>NaN</td>\n",
       "    </tr>\n",
       "    <tr>\n",
       "      <th>10 Things I Hate About You</th>\n",
       "      <td>NaN</td>\n",
       "      <td>NaN</td>\n",
       "      <td>NaN</td>\n",
       "      <td>NaN</td>\n",
       "      <td>NaN</td>\n",
       "      <td>NaN</td>\n",
       "      <td>0.634198</td>\n",
       "      <td>5.000000</td>\n",
       "      <td>NaN</td>\n",
       "      <td>3.950046</td>\n",
       "      <td>...</td>\n",
       "      <td>NaN</td>\n",
       "      <td>NaN</td>\n",
       "      <td>NaN</td>\n",
       "      <td>NaN</td>\n",
       "      <td>NaN</td>\n",
       "      <td>NaN</td>\n",
       "      <td>NaN</td>\n",
       "      <td>NaN</td>\n",
       "      <td>NaN</td>\n",
       "      <td>NaN</td>\n",
       "    </tr>\n",
       "    <tr>\n",
       "      <th>12 Angry Men</th>\n",
       "      <td>NaN</td>\n",
       "      <td>3.557412</td>\n",
       "      <td>NaN</td>\n",
       "      <td>NaN</td>\n",
       "      <td>NaN</td>\n",
       "      <td>1.749233</td>\n",
       "      <td>NaN</td>\n",
       "      <td>2.798852</td>\n",
       "      <td>NaN</td>\n",
       "      <td>3.999697</td>\n",
       "      <td>...</td>\n",
       "      <td>NaN</td>\n",
       "      <td>NaN</td>\n",
       "      <td>NaN</td>\n",
       "      <td>NaN</td>\n",
       "      <td>NaN</td>\n",
       "      <td>NaN</td>\n",
       "      <td>NaN</td>\n",
       "      <td>NaN</td>\n",
       "      <td>NaN</td>\n",
       "      <td>1.576521</td>\n",
       "    </tr>\n",
       "    <tr>\n",
       "      <th>12 Rounds</th>\n",
       "      <td>NaN</td>\n",
       "      <td>NaN</td>\n",
       "      <td>NaN</td>\n",
       "      <td>NaN</td>\n",
       "      <td>NaN</td>\n",
       "      <td>NaN</td>\n",
       "      <td>2.507410</td>\n",
       "      <td>NaN</td>\n",
       "      <td>NaN</td>\n",
       "      <td>NaN</td>\n",
       "      <td>...</td>\n",
       "      <td>NaN</td>\n",
       "      <td>NaN</td>\n",
       "      <td>NaN</td>\n",
       "      <td>NaN</td>\n",
       "      <td>NaN</td>\n",
       "      <td>NaN</td>\n",
       "      <td>NaN</td>\n",
       "      <td>NaN</td>\n",
       "      <td>4.372147</td>\n",
       "      <td>NaN</td>\n",
       "    </tr>\n",
       "    <tr>\n",
       "      <th>...</th>\n",
       "      <td>...</td>\n",
       "      <td>...</td>\n",
       "      <td>...</td>\n",
       "      <td>...</td>\n",
       "      <td>...</td>\n",
       "      <td>...</td>\n",
       "      <td>...</td>\n",
       "      <td>...</td>\n",
       "      <td>...</td>\n",
       "      <td>...</td>\n",
       "      <td>...</td>\n",
       "      <td>...</td>\n",
       "      <td>...</td>\n",
       "      <td>...</td>\n",
       "      <td>...</td>\n",
       "      <td>...</td>\n",
       "      <td>...</td>\n",
       "      <td>...</td>\n",
       "      <td>...</td>\n",
       "      <td>...</td>\n",
       "      <td>...</td>\n",
       "    </tr>\n",
       "    <tr>\n",
       "      <th>Zombieland</th>\n",
       "      <td>3.771710</td>\n",
       "      <td>NaN</td>\n",
       "      <td>0.405906</td>\n",
       "      <td>1.818915</td>\n",
       "      <td>1.443233</td>\n",
       "      <td>4.832664</td>\n",
       "      <td>NaN</td>\n",
       "      <td>NaN</td>\n",
       "      <td>NaN</td>\n",
       "      <td>NaN</td>\n",
       "      <td>...</td>\n",
       "      <td>NaN</td>\n",
       "      <td>NaN</td>\n",
       "      <td>3.580598</td>\n",
       "      <td>1.039948</td>\n",
       "      <td>NaN</td>\n",
       "      <td>NaN</td>\n",
       "      <td>NaN</td>\n",
       "      <td>NaN</td>\n",
       "      <td>NaN</td>\n",
       "      <td>2.865439</td>\n",
       "    </tr>\n",
       "    <tr>\n",
       "      <th>Zoolander</th>\n",
       "      <td>NaN</td>\n",
       "      <td>NaN</td>\n",
       "      <td>NaN</td>\n",
       "      <td>NaN</td>\n",
       "      <td>NaN</td>\n",
       "      <td>NaN</td>\n",
       "      <td>NaN</td>\n",
       "      <td>NaN</td>\n",
       "      <td>NaN</td>\n",
       "      <td>NaN</td>\n",
       "      <td>...</td>\n",
       "      <td>NaN</td>\n",
       "      <td>NaN</td>\n",
       "      <td>NaN</td>\n",
       "      <td>NaN</td>\n",
       "      <td>NaN</td>\n",
       "      <td>NaN</td>\n",
       "      <td>NaN</td>\n",
       "      <td>NaN</td>\n",
       "      <td>NaN</td>\n",
       "      <td>NaN</td>\n",
       "    </tr>\n",
       "    <tr>\n",
       "      <th>[REC]</th>\n",
       "      <td>4.314893</td>\n",
       "      <td>NaN</td>\n",
       "      <td>NaN</td>\n",
       "      <td>NaN</td>\n",
       "      <td>NaN</td>\n",
       "      <td>NaN</td>\n",
       "      <td>NaN</td>\n",
       "      <td>NaN</td>\n",
       "      <td>NaN</td>\n",
       "      <td>NaN</td>\n",
       "      <td>...</td>\n",
       "      <td>NaN</td>\n",
       "      <td>NaN</td>\n",
       "      <td>NaN</td>\n",
       "      <td>NaN</td>\n",
       "      <td>NaN</td>\n",
       "      <td>NaN</td>\n",
       "      <td>NaN</td>\n",
       "      <td>NaN</td>\n",
       "      <td>NaN</td>\n",
       "      <td>NaN</td>\n",
       "    </tr>\n",
       "    <tr>\n",
       "      <th>xXx</th>\n",
       "      <td>NaN</td>\n",
       "      <td>NaN</td>\n",
       "      <td>NaN</td>\n",
       "      <td>NaN</td>\n",
       "      <td>2.760900</td>\n",
       "      <td>NaN</td>\n",
       "      <td>NaN</td>\n",
       "      <td>2.588986</td>\n",
       "      <td>NaN</td>\n",
       "      <td>NaN</td>\n",
       "      <td>...</td>\n",
       "      <td>NaN</td>\n",
       "      <td>NaN</td>\n",
       "      <td>NaN</td>\n",
       "      <td>NaN</td>\n",
       "      <td>NaN</td>\n",
       "      <td>NaN</td>\n",
       "      <td>NaN</td>\n",
       "      <td>NaN</td>\n",
       "      <td>NaN</td>\n",
       "      <td>NaN</td>\n",
       "    </tr>\n",
       "    <tr>\n",
       "      <th>Æon Flux</th>\n",
       "      <td>NaN</td>\n",
       "      <td>NaN</td>\n",
       "      <td>NaN</td>\n",
       "      <td>2.642012</td>\n",
       "      <td>NaN</td>\n",
       "      <td>NaN</td>\n",
       "      <td>NaN</td>\n",
       "      <td>NaN</td>\n",
       "      <td>NaN</td>\n",
       "      <td>NaN</td>\n",
       "      <td>...</td>\n",
       "      <td>NaN</td>\n",
       "      <td>NaN</td>\n",
       "      <td>NaN</td>\n",
       "      <td>NaN</td>\n",
       "      <td>NaN</td>\n",
       "      <td>NaN</td>\n",
       "      <td>NaN</td>\n",
       "      <td>NaN</td>\n",
       "      <td>NaN</td>\n",
       "      <td>NaN</td>\n",
       "    </tr>\n",
       "  </tbody>\n",
       "</table>\n",
       "<p>1255 rows × 100 columns</p>\n",
       "</div>"
      ],
      "text/plain": [
       "user_id                         100       101       102       103       104   \\\n",
       "title                                                                          \n",
       "(500) Days of Summer             NaN       NaN       NaN       NaN       NaN   \n",
       "10 Cloverfield Lane              NaN       NaN  3.742261       NaN       NaN   \n",
       "10 Things I Hate About You       NaN       NaN       NaN       NaN       NaN   \n",
       "12 Angry Men                     NaN  3.557412       NaN       NaN       NaN   \n",
       "12 Rounds                        NaN       NaN       NaN       NaN       NaN   \n",
       "...                              ...       ...       ...       ...       ...   \n",
       "Zombieland                  3.771710       NaN  0.405906  1.818915  1.443233   \n",
       "Zoolander                        NaN       NaN       NaN       NaN       NaN   \n",
       "[REC]                       4.314893       NaN       NaN       NaN       NaN   \n",
       "xXx                              NaN       NaN       NaN       NaN  2.760900   \n",
       "Æon Flux                         NaN       NaN       NaN  2.642012       NaN   \n",
       "\n",
       "user_id                         105       106       107   108       109   ...  \\\n",
       "title                                                                     ...   \n",
       "(500) Days of Summer        1.299528       NaN       NaN   NaN  1.558574  ...   \n",
       "10 Cloverfield Lane         0.000000       NaN       NaN   NaN       NaN  ...   \n",
       "10 Things I Hate About You       NaN  0.634198  5.000000   NaN  3.950046  ...   \n",
       "12 Angry Men                1.749233       NaN  2.798852   NaN  3.999697  ...   \n",
       "12 Rounds                        NaN  2.507410       NaN   NaN       NaN  ...   \n",
       "...                              ...       ...       ...   ...       ...  ...   \n",
       "Zombieland                  4.832664       NaN       NaN   NaN       NaN  ...   \n",
       "Zoolander                        NaN       NaN       NaN   NaN       NaN  ...   \n",
       "[REC]                            NaN       NaN       NaN   NaN       NaN  ...   \n",
       "xXx                              NaN       NaN  2.588986   NaN       NaN  ...   \n",
       "Æon Flux                         NaN       NaN       NaN   NaN       NaN  ...   \n",
       "\n",
       "user_id                         191   192       193       195   199   200   \\\n",
       "title                                                                        \n",
       "(500) Days of Summer             NaN   NaN       NaN       NaN   NaN   NaN   \n",
       "10 Cloverfield Lane         4.562562   NaN       NaN       NaN   NaN   NaN   \n",
       "10 Things I Hate About You       NaN   NaN       NaN       NaN   NaN   NaN   \n",
       "12 Angry Men                     NaN   NaN       NaN       NaN   NaN   NaN   \n",
       "12 Rounds                        NaN   NaN       NaN       NaN   NaN   NaN   \n",
       "...                              ...   ...       ...       ...   ...   ...   \n",
       "Zombieland                       NaN   NaN  3.580598  1.039948   NaN   NaN   \n",
       "Zoolander                        NaN   NaN       NaN       NaN   NaN   NaN   \n",
       "[REC]                            NaN   NaN       NaN       NaN   NaN   NaN   \n",
       "xXx                              NaN   NaN       NaN       NaN   NaN   NaN   \n",
       "Æon Flux                         NaN   NaN       NaN       NaN   NaN   NaN   \n",
       "\n",
       "user_id                     202   203       217       1000  \n",
       "title                                                       \n",
       "(500) Days of Summer         NaN   NaN       NaN       NaN  \n",
       "10 Cloverfield Lane          NaN   NaN       NaN       NaN  \n",
       "10 Things I Hate About You   NaN   NaN       NaN       NaN  \n",
       "12 Angry Men                 NaN   NaN       NaN  1.576521  \n",
       "12 Rounds                    NaN   NaN  4.372147       NaN  \n",
       "...                          ...   ...       ...       ...  \n",
       "Zombieland                   NaN   NaN       NaN  2.865439  \n",
       "Zoolander                    NaN   NaN       NaN       NaN  \n",
       "[REC]                        NaN   NaN       NaN       NaN  \n",
       "xXx                          NaN   NaN       NaN       NaN  \n",
       "Æon Flux                     NaN   NaN       NaN       NaN  \n",
       "\n",
       "[1255 rows x 100 columns]"
      ]
     },
     "execution_count": 76,
     "metadata": {},
     "output_type": "execute_result"
    }
   ],
   "source": [
    "# creating a pivot table\n",
    "pt = final_ratings.pivot_table(index = 'title', columns = 'user_id', values='rating')\n",
    "pt"
   ]
  },
  {
   "cell_type": "code",
   "execution_count": 77,
   "id": "2546ecba",
   "metadata": {},
   "outputs": [],
   "source": [
    "# Normalisation of pivot table values\n",
    "row_means = pt.mean(axis=1, skipna=True)\n",
    "pt = pt.apply(lambda row: row.sub(row_means[row.name]) if row.name in row_means else row, axis=1)\n",
    "pt.fillna(0, inplace = True)"
   ]
  },
  {
   "cell_type": "code",
   "execution_count": 78,
   "id": "90dac70b",
   "metadata": {},
   "outputs": [
    {
     "data": {
      "text/html": [
       "<div>\n",
       "<style scoped>\n",
       "    .dataframe tbody tr th:only-of-type {\n",
       "        vertical-align: middle;\n",
       "    }\n",
       "\n",
       "    .dataframe tbody tr th {\n",
       "        vertical-align: top;\n",
       "    }\n",
       "\n",
       "    .dataframe thead th {\n",
       "        text-align: right;\n",
       "    }\n",
       "</style>\n",
       "<table border=\"1\" class=\"dataframe\">\n",
       "  <thead>\n",
       "    <tr style=\"text-align: right;\">\n",
       "      <th>user_id</th>\n",
       "      <th>100</th>\n",
       "      <th>101</th>\n",
       "      <th>102</th>\n",
       "      <th>103</th>\n",
       "      <th>104</th>\n",
       "      <th>105</th>\n",
       "      <th>106</th>\n",
       "      <th>107</th>\n",
       "      <th>108</th>\n",
       "      <th>109</th>\n",
       "      <th>...</th>\n",
       "      <th>191</th>\n",
       "      <th>192</th>\n",
       "      <th>193</th>\n",
       "      <th>195</th>\n",
       "      <th>199</th>\n",
       "      <th>200</th>\n",
       "      <th>202</th>\n",
       "      <th>203</th>\n",
       "      <th>217</th>\n",
       "      <th>1000</th>\n",
       "    </tr>\n",
       "    <tr>\n",
       "      <th>title</th>\n",
       "      <th></th>\n",
       "      <th></th>\n",
       "      <th></th>\n",
       "      <th></th>\n",
       "      <th></th>\n",
       "      <th></th>\n",
       "      <th></th>\n",
       "      <th></th>\n",
       "      <th></th>\n",
       "      <th></th>\n",
       "      <th></th>\n",
       "      <th></th>\n",
       "      <th></th>\n",
       "      <th></th>\n",
       "      <th></th>\n",
       "      <th></th>\n",
       "      <th></th>\n",
       "      <th></th>\n",
       "      <th></th>\n",
       "      <th></th>\n",
       "      <th></th>\n",
       "    </tr>\n",
       "  </thead>\n",
       "  <tbody>\n",
       "    <tr>\n",
       "      <th>(500) Days of Summer</th>\n",
       "      <td>0.000000</td>\n",
       "      <td>0.00000</td>\n",
       "      <td>0.000000</td>\n",
       "      <td>0.000000</td>\n",
       "      <td>0.000000</td>\n",
       "      <td>-1.888330</td>\n",
       "      <td>0.000000</td>\n",
       "      <td>0.000000</td>\n",
       "      <td>0.0</td>\n",
       "      <td>-1.629284</td>\n",
       "      <td>...</td>\n",
       "      <td>0.000000</td>\n",
       "      <td>0.0</td>\n",
       "      <td>0.000000</td>\n",
       "      <td>0.000000</td>\n",
       "      <td>0.0</td>\n",
       "      <td>0.0</td>\n",
       "      <td>0.0</td>\n",
       "      <td>0.0</td>\n",
       "      <td>0.000000</td>\n",
       "      <td>0.000000</td>\n",
       "    </tr>\n",
       "    <tr>\n",
       "      <th>10 Cloverfield Lane</th>\n",
       "      <td>0.000000</td>\n",
       "      <td>0.00000</td>\n",
       "      <td>1.020295</td>\n",
       "      <td>0.000000</td>\n",
       "      <td>0.000000</td>\n",
       "      <td>-2.721966</td>\n",
       "      <td>0.000000</td>\n",
       "      <td>0.000000</td>\n",
       "      <td>0.0</td>\n",
       "      <td>0.000000</td>\n",
       "      <td>...</td>\n",
       "      <td>1.840596</td>\n",
       "      <td>0.0</td>\n",
       "      <td>0.000000</td>\n",
       "      <td>0.000000</td>\n",
       "      <td>0.0</td>\n",
       "      <td>0.0</td>\n",
       "      <td>0.0</td>\n",
       "      <td>0.0</td>\n",
       "      <td>0.000000</td>\n",
       "      <td>0.000000</td>\n",
       "    </tr>\n",
       "    <tr>\n",
       "      <th>10 Things I Hate About You</th>\n",
       "      <td>0.000000</td>\n",
       "      <td>0.00000</td>\n",
       "      <td>0.000000</td>\n",
       "      <td>0.000000</td>\n",
       "      <td>0.000000</td>\n",
       "      <td>0.000000</td>\n",
       "      <td>-2.730937</td>\n",
       "      <td>1.634864</td>\n",
       "      <td>0.0</td>\n",
       "      <td>0.584910</td>\n",
       "      <td>...</td>\n",
       "      <td>0.000000</td>\n",
       "      <td>0.0</td>\n",
       "      <td>0.000000</td>\n",
       "      <td>0.000000</td>\n",
       "      <td>0.0</td>\n",
       "      <td>0.0</td>\n",
       "      <td>0.0</td>\n",
       "      <td>0.0</td>\n",
       "      <td>0.000000</td>\n",
       "      <td>0.000000</td>\n",
       "    </tr>\n",
       "    <tr>\n",
       "      <th>12 Angry Men</th>\n",
       "      <td>0.000000</td>\n",
       "      <td>0.27907</td>\n",
       "      <td>0.000000</td>\n",
       "      <td>0.000000</td>\n",
       "      <td>0.000000</td>\n",
       "      <td>-1.529109</td>\n",
       "      <td>0.000000</td>\n",
       "      <td>-0.479490</td>\n",
       "      <td>0.0</td>\n",
       "      <td>0.721356</td>\n",
       "      <td>...</td>\n",
       "      <td>0.000000</td>\n",
       "      <td>0.0</td>\n",
       "      <td>0.000000</td>\n",
       "      <td>0.000000</td>\n",
       "      <td>0.0</td>\n",
       "      <td>0.0</td>\n",
       "      <td>0.0</td>\n",
       "      <td>0.0</td>\n",
       "      <td>0.000000</td>\n",
       "      <td>-1.701821</td>\n",
       "    </tr>\n",
       "    <tr>\n",
       "      <th>12 Rounds</th>\n",
       "      <td>0.000000</td>\n",
       "      <td>0.00000</td>\n",
       "      <td>0.000000</td>\n",
       "      <td>0.000000</td>\n",
       "      <td>0.000000</td>\n",
       "      <td>0.000000</td>\n",
       "      <td>-1.646978</td>\n",
       "      <td>0.000000</td>\n",
       "      <td>0.0</td>\n",
       "      <td>0.000000</td>\n",
       "      <td>...</td>\n",
       "      <td>0.000000</td>\n",
       "      <td>0.0</td>\n",
       "      <td>0.000000</td>\n",
       "      <td>0.000000</td>\n",
       "      <td>0.0</td>\n",
       "      <td>0.0</td>\n",
       "      <td>0.0</td>\n",
       "      <td>0.0</td>\n",
       "      <td>0.217759</td>\n",
       "      <td>0.000000</td>\n",
       "    </tr>\n",
       "    <tr>\n",
       "      <th>...</th>\n",
       "      <td>...</td>\n",
       "      <td>...</td>\n",
       "      <td>...</td>\n",
       "      <td>...</td>\n",
       "      <td>...</td>\n",
       "      <td>...</td>\n",
       "      <td>...</td>\n",
       "      <td>...</td>\n",
       "      <td>...</td>\n",
       "      <td>...</td>\n",
       "      <td>...</td>\n",
       "      <td>...</td>\n",
       "      <td>...</td>\n",
       "      <td>...</td>\n",
       "      <td>...</td>\n",
       "      <td>...</td>\n",
       "      <td>...</td>\n",
       "      <td>...</td>\n",
       "      <td>...</td>\n",
       "      <td>...</td>\n",
       "      <td>...</td>\n",
       "    </tr>\n",
       "    <tr>\n",
       "      <th>Zombieland</th>\n",
       "      <td>1.358665</td>\n",
       "      <td>0.00000</td>\n",
       "      <td>-2.007140</td>\n",
       "      <td>-0.594131</td>\n",
       "      <td>-0.969813</td>\n",
       "      <td>2.419618</td>\n",
       "      <td>0.000000</td>\n",
       "      <td>0.000000</td>\n",
       "      <td>0.0</td>\n",
       "      <td>0.000000</td>\n",
       "      <td>...</td>\n",
       "      <td>0.000000</td>\n",
       "      <td>0.0</td>\n",
       "      <td>1.167552</td>\n",
       "      <td>-1.373098</td>\n",
       "      <td>0.0</td>\n",
       "      <td>0.0</td>\n",
       "      <td>0.0</td>\n",
       "      <td>0.0</td>\n",
       "      <td>0.000000</td>\n",
       "      <td>0.452393</td>\n",
       "    </tr>\n",
       "    <tr>\n",
       "      <th>Zoolander</th>\n",
       "      <td>0.000000</td>\n",
       "      <td>0.00000</td>\n",
       "      <td>0.000000</td>\n",
       "      <td>0.000000</td>\n",
       "      <td>0.000000</td>\n",
       "      <td>0.000000</td>\n",
       "      <td>0.000000</td>\n",
       "      <td>0.000000</td>\n",
       "      <td>0.0</td>\n",
       "      <td>0.000000</td>\n",
       "      <td>...</td>\n",
       "      <td>0.000000</td>\n",
       "      <td>0.0</td>\n",
       "      <td>0.000000</td>\n",
       "      <td>0.000000</td>\n",
       "      <td>0.0</td>\n",
       "      <td>0.0</td>\n",
       "      <td>0.0</td>\n",
       "      <td>0.0</td>\n",
       "      <td>0.000000</td>\n",
       "      <td>0.000000</td>\n",
       "    </tr>\n",
       "    <tr>\n",
       "      <th>[REC]</th>\n",
       "      <td>1.136151</td>\n",
       "      <td>0.00000</td>\n",
       "      <td>0.000000</td>\n",
       "      <td>0.000000</td>\n",
       "      <td>0.000000</td>\n",
       "      <td>0.000000</td>\n",
       "      <td>0.000000</td>\n",
       "      <td>0.000000</td>\n",
       "      <td>0.0</td>\n",
       "      <td>0.000000</td>\n",
       "      <td>...</td>\n",
       "      <td>0.000000</td>\n",
       "      <td>0.0</td>\n",
       "      <td>0.000000</td>\n",
       "      <td>0.000000</td>\n",
       "      <td>0.0</td>\n",
       "      <td>0.0</td>\n",
       "      <td>0.0</td>\n",
       "      <td>0.0</td>\n",
       "      <td>0.000000</td>\n",
       "      <td>0.000000</td>\n",
       "    </tr>\n",
       "    <tr>\n",
       "      <th>xXx</th>\n",
       "      <td>0.000000</td>\n",
       "      <td>0.00000</td>\n",
       "      <td>0.000000</td>\n",
       "      <td>0.000000</td>\n",
       "      <td>-0.455358</td>\n",
       "      <td>0.000000</td>\n",
       "      <td>0.000000</td>\n",
       "      <td>-0.627272</td>\n",
       "      <td>0.0</td>\n",
       "      <td>0.000000</td>\n",
       "      <td>...</td>\n",
       "      <td>0.000000</td>\n",
       "      <td>0.0</td>\n",
       "      <td>0.000000</td>\n",
       "      <td>0.000000</td>\n",
       "      <td>0.0</td>\n",
       "      <td>0.0</td>\n",
       "      <td>0.0</td>\n",
       "      <td>0.0</td>\n",
       "      <td>0.000000</td>\n",
       "      <td>0.000000</td>\n",
       "    </tr>\n",
       "    <tr>\n",
       "      <th>Æon Flux</th>\n",
       "      <td>0.000000</td>\n",
       "      <td>0.00000</td>\n",
       "      <td>0.000000</td>\n",
       "      <td>-0.078768</td>\n",
       "      <td>0.000000</td>\n",
       "      <td>0.000000</td>\n",
       "      <td>0.000000</td>\n",
       "      <td>0.000000</td>\n",
       "      <td>0.0</td>\n",
       "      <td>0.000000</td>\n",
       "      <td>...</td>\n",
       "      <td>0.000000</td>\n",
       "      <td>0.0</td>\n",
       "      <td>0.000000</td>\n",
       "      <td>0.000000</td>\n",
       "      <td>0.0</td>\n",
       "      <td>0.0</td>\n",
       "      <td>0.0</td>\n",
       "      <td>0.0</td>\n",
       "      <td>0.000000</td>\n",
       "      <td>0.000000</td>\n",
       "    </tr>\n",
       "  </tbody>\n",
       "</table>\n",
       "<p>1255 rows × 100 columns</p>\n",
       "</div>"
      ],
      "text/plain": [
       "user_id                         100      101       102       103       104   \\\n",
       "title                                                                         \n",
       "(500) Days of Summer        0.000000  0.00000  0.000000  0.000000  0.000000   \n",
       "10 Cloverfield Lane         0.000000  0.00000  1.020295  0.000000  0.000000   \n",
       "10 Things I Hate About You  0.000000  0.00000  0.000000  0.000000  0.000000   \n",
       "12 Angry Men                0.000000  0.27907  0.000000  0.000000  0.000000   \n",
       "12 Rounds                   0.000000  0.00000  0.000000  0.000000  0.000000   \n",
       "...                              ...      ...       ...       ...       ...   \n",
       "Zombieland                  1.358665  0.00000 -2.007140 -0.594131 -0.969813   \n",
       "Zoolander                   0.000000  0.00000  0.000000  0.000000  0.000000   \n",
       "[REC]                       1.136151  0.00000  0.000000  0.000000  0.000000   \n",
       "xXx                         0.000000  0.00000  0.000000  0.000000 -0.455358   \n",
       "Æon Flux                    0.000000  0.00000  0.000000 -0.078768  0.000000   \n",
       "\n",
       "user_id                         105       106       107   108       109   ...  \\\n",
       "title                                                                     ...   \n",
       "(500) Days of Summer       -1.888330  0.000000  0.000000   0.0 -1.629284  ...   \n",
       "10 Cloverfield Lane        -2.721966  0.000000  0.000000   0.0  0.000000  ...   \n",
       "10 Things I Hate About You  0.000000 -2.730937  1.634864   0.0  0.584910  ...   \n",
       "12 Angry Men               -1.529109  0.000000 -0.479490   0.0  0.721356  ...   \n",
       "12 Rounds                   0.000000 -1.646978  0.000000   0.0  0.000000  ...   \n",
       "...                              ...       ...       ...   ...       ...  ...   \n",
       "Zombieland                  2.419618  0.000000  0.000000   0.0  0.000000  ...   \n",
       "Zoolander                   0.000000  0.000000  0.000000   0.0  0.000000  ...   \n",
       "[REC]                       0.000000  0.000000  0.000000   0.0  0.000000  ...   \n",
       "xXx                         0.000000  0.000000 -0.627272   0.0  0.000000  ...   \n",
       "Æon Flux                    0.000000  0.000000  0.000000   0.0  0.000000  ...   \n",
       "\n",
       "user_id                         191   192       193       195   199   200   \\\n",
       "title                                                                        \n",
       "(500) Days of Summer        0.000000   0.0  0.000000  0.000000   0.0   0.0   \n",
       "10 Cloverfield Lane         1.840596   0.0  0.000000  0.000000   0.0   0.0   \n",
       "10 Things I Hate About You  0.000000   0.0  0.000000  0.000000   0.0   0.0   \n",
       "12 Angry Men                0.000000   0.0  0.000000  0.000000   0.0   0.0   \n",
       "12 Rounds                   0.000000   0.0  0.000000  0.000000   0.0   0.0   \n",
       "...                              ...   ...       ...       ...   ...   ...   \n",
       "Zombieland                  0.000000   0.0  1.167552 -1.373098   0.0   0.0   \n",
       "Zoolander                   0.000000   0.0  0.000000  0.000000   0.0   0.0   \n",
       "[REC]                       0.000000   0.0  0.000000  0.000000   0.0   0.0   \n",
       "xXx                         0.000000   0.0  0.000000  0.000000   0.0   0.0   \n",
       "Æon Flux                    0.000000   0.0  0.000000  0.000000   0.0   0.0   \n",
       "\n",
       "user_id                     202   203       217       1000  \n",
       "title                                                       \n",
       "(500) Days of Summer         0.0   0.0  0.000000  0.000000  \n",
       "10 Cloverfield Lane          0.0   0.0  0.000000  0.000000  \n",
       "10 Things I Hate About You   0.0   0.0  0.000000  0.000000  \n",
       "12 Angry Men                 0.0   0.0  0.000000 -1.701821  \n",
       "12 Rounds                    0.0   0.0  0.217759  0.000000  \n",
       "...                          ...   ...       ...       ...  \n",
       "Zombieland                   0.0   0.0  0.000000  0.452393  \n",
       "Zoolander                    0.0   0.0  0.000000  0.000000  \n",
       "[REC]                        0.0   0.0  0.000000  0.000000  \n",
       "xXx                          0.0   0.0  0.000000  0.000000  \n",
       "Æon Flux                     0.0   0.0  0.000000  0.000000  \n",
       "\n",
       "[1255 rows x 100 columns]"
      ]
     },
     "execution_count": 78,
     "metadata": {},
     "output_type": "execute_result"
    }
   ],
   "source": [
    "pt"
   ]
  },
  {
   "cell_type": "code",
   "execution_count": 79,
   "id": "e8e2398e",
   "metadata": {},
   "outputs": [
    {
     "data": {
      "text/plain": [
       "(1255, 1255)"
      ]
     },
     "execution_count": 79,
     "metadata": {},
     "output_type": "execute_result"
    }
   ],
   "source": [
    "# Compute the cosine similarity matrix\n",
    "colab_sim = cosine_similarity(pt)\n",
    "\n",
    "colab_sim.shape"
   ]
  },
  {
   "cell_type": "code",
   "execution_count": 84,
   "id": "b3d622ac",
   "metadata": {},
   "outputs": [],
   "source": [
    "# recommendation function\n",
    "def CF_recommend(movie):\n",
    "    # index fetch \n",
    "    index = np.where(pt.index==movie)[0][0]\n",
    "    similar_items = sorted(list(enumerate(colab_sim[index])),key=lambda x:x[1], reverse = True)[1:6]\n",
    "    \n",
    "    for i in similar_items:\n",
    "        print(pt.index[i[0]])"
   ]
  },
  {
   "cell_type": "code",
   "execution_count": 85,
   "id": "7172de71",
   "metadata": {},
   "outputs": [
    {
     "name": "stdout",
     "output_type": "stream",
     "text": [
      "Paul\n",
      "Disturbia\n",
      "American Wedding\n",
      "13 Going on 30\n",
      "Paper Towns\n"
     ]
    }
   ],
   "source": [
    "CF_recommend('Jurassic Park')"
   ]
  },
  {
   "cell_type": "markdown",
   "id": "cf3d32a5",
   "metadata": {},
   "source": [
    "# Hybrid Reccomendation System"
   ]
  },
  {
   "cell_type": "raw",
   "id": "2c9c1560",
   "metadata": {},
   "source": [
    "- we combine content based and colaborative filtering based similarity scores to reach to better recommendations\n",
    "- we can decide weightage of the individual similarity scores based on the amount and quality of data we have with respect to : \n",
    "        - collection of items and their details\n",
    "        - number of credible user ratings\n",
    "        \n",
    "\n",
    "In our case, \n",
    "- Ratings are generated randomly by code, and are not a good measure of actual human behaviour \n",
    "- In our code, we have simulated that:\n",
    "        - certain users are more frequent raters\n",
    "        - more popular movies get more number of ratings\n",
    "        \n",
    "- The rating given by the user is random and independent of influence from external factors, which is not the case in real life\n",
    "\n",
    "thus we shall give 25% weightage to collaborative-filtering and 75% weightage to content-based similarity measures"
   ]
  },
  {
   "cell_type": "markdown",
   "id": "c9d6a38e",
   "metadata": {},
   "source": [
    "## Trimming Content-based Data\n",
    "- keeping only those movies which have credible ratings and for whom we have collaborative filtering similarity scores"
   ]
  },
  {
   "cell_type": "code",
   "execution_count": 86,
   "id": "de758ac8",
   "metadata": {},
   "outputs": [
    {
     "data": {
      "text/html": [
       "<div>\n",
       "<style scoped>\n",
       "    .dataframe tbody tr th:only-of-type {\n",
       "        vertical-align: middle;\n",
       "    }\n",
       "\n",
       "    .dataframe tbody tr th {\n",
       "        vertical-align: top;\n",
       "    }\n",
       "\n",
       "    .dataframe thead th {\n",
       "        text-align: right;\n",
       "    }\n",
       "</style>\n",
       "<table border=\"1\" class=\"dataframe\">\n",
       "  <thead>\n",
       "    <tr style=\"text-align: right;\">\n",
       "      <th></th>\n",
       "      <th>id</th>\n",
       "      <th>title</th>\n",
       "      <th>tags</th>\n",
       "    </tr>\n",
       "  </thead>\n",
       "  <tbody>\n",
       "    <tr>\n",
       "      <th>0</th>\n",
       "      <td>19995</td>\n",
       "      <td>Avatar</td>\n",
       "      <td>in the 22nd century, a parapleg marin is dispa...</td>\n",
       "    </tr>\n",
       "    <tr>\n",
       "      <th>1</th>\n",
       "      <td>285</td>\n",
       "      <td>Pirates of the Caribbean: At World's End</td>\n",
       "      <td>captain barbossa, long believ to be dead, ha c...</td>\n",
       "    </tr>\n",
       "    <tr>\n",
       "      <th>2</th>\n",
       "      <td>206647</td>\n",
       "      <td>Spectre</td>\n",
       "      <td>a cryptic messag from bond’ past send him on a...</td>\n",
       "    </tr>\n",
       "    <tr>\n",
       "      <th>3</th>\n",
       "      <td>49026</td>\n",
       "      <td>The Dark Knight Rises</td>\n",
       "      <td>follow the death of district attorney harvey d...</td>\n",
       "    </tr>\n",
       "    <tr>\n",
       "      <th>4</th>\n",
       "      <td>49529</td>\n",
       "      <td>John Carter</td>\n",
       "      <td>john carter is a war-weary, former militari ca...</td>\n",
       "    </tr>\n",
       "    <tr>\n",
       "      <th>...</th>\n",
       "      <td>...</td>\n",
       "      <td>...</td>\n",
       "      <td>...</td>\n",
       "    </tr>\n",
       "    <tr>\n",
       "      <th>4798</th>\n",
       "      <td>9367</td>\n",
       "      <td>El Mariachi</td>\n",
       "      <td>el mariachi just want to play hi guitar and ca...</td>\n",
       "    </tr>\n",
       "    <tr>\n",
       "      <th>4799</th>\n",
       "      <td>72766</td>\n",
       "      <td>Newlyweds</td>\n",
       "      <td>a newlyw couple' honeymoon is upend by the arr...</td>\n",
       "    </tr>\n",
       "    <tr>\n",
       "      <th>4800</th>\n",
       "      <td>231617</td>\n",
       "      <td>Signed, Sealed, Delivered</td>\n",
       "      <td>\"signed, sealed, delivered\" introduc a dedic q...</td>\n",
       "    </tr>\n",
       "    <tr>\n",
       "      <th>4801</th>\n",
       "      <td>126186</td>\n",
       "      <td>Shanghai Calling</td>\n",
       "      <td>when ambiti new york attorney sam is sent to s...</td>\n",
       "    </tr>\n",
       "    <tr>\n",
       "      <th>4802</th>\n",
       "      <td>25975</td>\n",
       "      <td>My Date with Drew</td>\n",
       "      <td>ever sinc the second grade when he first saw h...</td>\n",
       "    </tr>\n",
       "  </tbody>\n",
       "</table>\n",
       "<p>4803 rows × 3 columns</p>\n",
       "</div>"
      ],
      "text/plain": [
       "          id                                     title  \\\n",
       "0      19995                                    Avatar   \n",
       "1        285  Pirates of the Caribbean: At World's End   \n",
       "2     206647                                   Spectre   \n",
       "3      49026                     The Dark Knight Rises   \n",
       "4      49529                               John Carter   \n",
       "...      ...                                       ...   \n",
       "4798    9367                               El Mariachi   \n",
       "4799   72766                                 Newlyweds   \n",
       "4800  231617                 Signed, Sealed, Delivered   \n",
       "4801  126186                          Shanghai Calling   \n",
       "4802   25975                         My Date with Drew   \n",
       "\n",
       "                                                   tags  \n",
       "0     in the 22nd century, a parapleg marin is dispa...  \n",
       "1     captain barbossa, long believ to be dead, ha c...  \n",
       "2     a cryptic messag from bond’ past send him on a...  \n",
       "3     follow the death of district attorney harvey d...  \n",
       "4     john carter is a war-weary, former militari ca...  \n",
       "...                                                 ...  \n",
       "4798  el mariachi just want to play hi guitar and ca...  \n",
       "4799  a newlyw couple' honeymoon is upend by the arr...  \n",
       "4800  \"signed, sealed, delivered\" introduc a dedic q...  \n",
       "4801  when ambiti new york attorney sam is sent to s...  \n",
       "4802  ever sinc the second grade when he first saw h...  \n",
       "\n",
       "[4803 rows x 3 columns]"
      ]
     },
     "execution_count": 86,
     "metadata": {},
     "output_type": "execute_result"
    }
   ],
   "source": [
    "new_df"
   ]
  },
  {
   "cell_type": "code",
   "execution_count": 87,
   "id": "83c9b3b7",
   "metadata": {},
   "outputs": [
    {
     "data": {
      "text/plain": [
       "1255"
      ]
     },
     "execution_count": 87,
     "metadata": {},
     "output_type": "execute_result"
    }
   ],
   "source": [
    "# we fetch all the movie ids on which collaborative filtering could be applied i.e. final_ratings\n",
    "\n",
    "movie_ids = final_ratings.movie_id.unique()\n",
    "len(movie_ids)"
   ]
  },
  {
   "cell_type": "code",
   "execution_count": 88,
   "id": "0b4efcf8",
   "metadata": {},
   "outputs": [],
   "source": [
    "# filtering new_df for Content-based approach\n",
    "\n",
    "new_CB_df = new_df[new_df['id'].isin(movie_ids)].sort_values(by = 'title').reset_index()"
   ]
  },
  {
   "cell_type": "code",
   "execution_count": 89,
   "id": "d5f6a620",
   "metadata": {},
   "outputs": [],
   "source": [
    "new_CB_df.drop(columns = 'index' , inplace = True)"
   ]
  },
  {
   "cell_type": "code",
   "execution_count": 90,
   "id": "92c49ff5",
   "metadata": {},
   "outputs": [
    {
     "data": {
      "text/html": [
       "<div>\n",
       "<style scoped>\n",
       "    .dataframe tbody tr th:only-of-type {\n",
       "        vertical-align: middle;\n",
       "    }\n",
       "\n",
       "    .dataframe tbody tr th {\n",
       "        vertical-align: top;\n",
       "    }\n",
       "\n",
       "    .dataframe thead th {\n",
       "        text-align: right;\n",
       "    }\n",
       "</style>\n",
       "<table border=\"1\" class=\"dataframe\">\n",
       "  <thead>\n",
       "    <tr style=\"text-align: right;\">\n",
       "      <th></th>\n",
       "      <th>id</th>\n",
       "      <th>title</th>\n",
       "      <th>tags</th>\n",
       "    </tr>\n",
       "  </thead>\n",
       "  <tbody>\n",
       "    <tr>\n",
       "      <th>0</th>\n",
       "      <td>19913</td>\n",
       "      <td>(500) Days of Summer</td>\n",
       "      <td>tom (joseph gordon-levitt), greeting-card writ...</td>\n",
       "    </tr>\n",
       "    <tr>\n",
       "      <th>1</th>\n",
       "      <td>333371</td>\n",
       "      <td>10 Cloverfield Lane</td>\n",
       "      <td>after a car accident, michel awaken to find he...</td>\n",
       "    </tr>\n",
       "    <tr>\n",
       "      <th>2</th>\n",
       "      <td>4951</td>\n",
       "      <td>10 Things I Hate About You</td>\n",
       "      <td>bianca, a tenth grader, ha never gone on a dat...</td>\n",
       "    </tr>\n",
       "    <tr>\n",
       "      <th>3</th>\n",
       "      <td>389</td>\n",
       "      <td>12 Angry Men</td>\n",
       "      <td>the defens and the prosecut have rest and the ...</td>\n",
       "    </tr>\n",
       "    <tr>\n",
       "      <th>4</th>\n",
       "      <td>17134</td>\n",
       "      <td>12 Rounds</td>\n",
       "      <td>when new orlean cop danni fisher prevent a bri...</td>\n",
       "    </tr>\n",
       "    <tr>\n",
       "      <th>...</th>\n",
       "      <td>...</td>\n",
       "      <td>...</td>\n",
       "      <td>...</td>\n",
       "    </tr>\n",
       "    <tr>\n",
       "      <th>1250</th>\n",
       "      <td>19908</td>\n",
       "      <td>Zombieland</td>\n",
       "      <td>columbu ha made a habit of run from what scare...</td>\n",
       "    </tr>\n",
       "    <tr>\n",
       "      <th>1251</th>\n",
       "      <td>9398</td>\n",
       "      <td>Zoolander</td>\n",
       "      <td>clear the runway for derek zoolander, vh1' thr...</td>\n",
       "    </tr>\n",
       "    <tr>\n",
       "      <th>1252</th>\n",
       "      <td>8329</td>\n",
       "      <td>[REC]</td>\n",
       "      <td>a televis report and cameraman follow emerg wo...</td>\n",
       "    </tr>\n",
       "    <tr>\n",
       "      <th>1253</th>\n",
       "      <td>7451</td>\n",
       "      <td>xXx</td>\n",
       "      <td>xander cage is your standard adrenalin junki w...</td>\n",
       "    </tr>\n",
       "    <tr>\n",
       "      <th>1254</th>\n",
       "      <td>8202</td>\n",
       "      <td>Æon Flux</td>\n",
       "      <td>400 year into the future, diseas ha wipe out t...</td>\n",
       "    </tr>\n",
       "  </tbody>\n",
       "</table>\n",
       "<p>1255 rows × 3 columns</p>\n",
       "</div>"
      ],
      "text/plain": [
       "          id                       title  \\\n",
       "0      19913        (500) Days of Summer   \n",
       "1     333371         10 Cloverfield Lane   \n",
       "2       4951  10 Things I Hate About You   \n",
       "3        389                12 Angry Men   \n",
       "4      17134                   12 Rounds   \n",
       "...      ...                         ...   \n",
       "1250   19908                  Zombieland   \n",
       "1251    9398                   Zoolander   \n",
       "1252    8329                       [REC]   \n",
       "1253    7451                         xXx   \n",
       "1254    8202                    Æon Flux   \n",
       "\n",
       "                                                   tags  \n",
       "0     tom (joseph gordon-levitt), greeting-card writ...  \n",
       "1     after a car accident, michel awaken to find he...  \n",
       "2     bianca, a tenth grader, ha never gone on a dat...  \n",
       "3     the defens and the prosecut have rest and the ...  \n",
       "4     when new orlean cop danni fisher prevent a bri...  \n",
       "...                                                 ...  \n",
       "1250  columbu ha made a habit of run from what scare...  \n",
       "1251  clear the runway for derek zoolander, vh1' thr...  \n",
       "1252  a televis report and cameraman follow emerg wo...  \n",
       "1253  xander cage is your standard adrenalin junki w...  \n",
       "1254  400 year into the future, diseas ha wipe out t...  \n",
       "\n",
       "[1255 rows x 3 columns]"
      ]
     },
     "execution_count": 90,
     "metadata": {},
     "output_type": "execute_result"
    }
   ],
   "source": [
    "new_CB_df"
   ]
  },
  {
   "cell_type": "code",
   "execution_count": 91,
   "id": "6f83eead",
   "metadata": {},
   "outputs": [
    {
     "data": {
      "text/plain": [
       "(1255, 15126)"
      ]
     },
     "execution_count": 91,
     "metadata": {},
     "output_type": "execute_result"
    }
   ],
   "source": [
    "# tfidf_vectorizer already imported in Content-based Recommendation System\n",
    "# Using same tfidf vectorizer object as above\n",
    "tfidf = TfidfVectorizer(stop_words='english')\n",
    "\n",
    "# Replace NaN with an empty string\n",
    "new_CB_df['tags'] = new_CB_df['tags'].fillna('')\n",
    "\n",
    "# Construct the required TF-IDF matrix by fitting and transforming the data\n",
    "matrix_CB = tfidf.fit_transform(new_CB_df['tags']).toarray()\n",
    "\n",
    "matrix_CB.shape"
   ]
  },
  {
   "cell_type": "code",
   "execution_count": 92,
   "id": "c96e8f3e",
   "metadata": {},
   "outputs": [],
   "source": [
    "# Compute the cosine similarity matrix\n",
    "cont_sim = cosine_similarity(matrix_CB)"
   ]
  },
  {
   "cell_type": "code",
   "execution_count": 93,
   "id": "0db79845",
   "metadata": {},
   "outputs": [
    {
     "data": {
      "text/plain": [
       "(1255, 1255)"
      ]
     },
     "execution_count": 93,
     "metadata": {},
     "output_type": "execute_result"
    }
   ],
   "source": [
    "cont_sim.shape"
   ]
  },
  {
   "cell_type": "code",
   "execution_count": 94,
   "id": "45976321",
   "metadata": {},
   "outputs": [
    {
     "data": {
      "text/plain": [
       "(1255, 1255)"
      ]
     },
     "execution_count": 94,
     "metadata": {},
     "output_type": "execute_result"
    }
   ],
   "source": [
    "colab_sim.shape"
   ]
  },
  {
   "cell_type": "code",
   "execution_count": 95,
   "id": "f974d906",
   "metadata": {},
   "outputs": [],
   "source": [
    "# we get hybrid similarity matrix by using weighted sum of the similarities by 2 methods\n",
    "hyb_sim = (colab_sim * 0) + (cont_sim * 1)"
   ]
  },
  {
   "cell_type": "code",
   "execution_count": 96,
   "id": "bbcf181d",
   "metadata": {},
   "outputs": [],
   "source": [
    "# recommendation function\n",
    "def hybrid_recco(movie):\n",
    "        \n",
    "    # fetch index\n",
    "    ind = new_CB_df[new_CB_df.title == movie].index[0]\n",
    "    similar_movies = sorted(list(enumerate(hyb_sim[ind])),key=lambda x:x[1], reverse = True)[1:8]\n",
    "    \n",
    "    for i in similar_movies:\n",
    "        print(list(new_CB_df[new_CB_df.index == i[0]].title)[0])"
   ]
  },
  {
   "cell_type": "code",
   "execution_count": 97,
   "id": "13ce64e4",
   "metadata": {},
   "outputs": [
    {
     "name": "stdout",
     "output_type": "stream",
     "text": [
      "Mission: Impossible - Rogue Nation\n",
      "Journey 2: The Mysterious Island\n",
      "Mission: Impossible - Ghost Protocol\n",
      "Criminal\n",
      "G-Force\n",
      "Faster\n",
      "Lone Survivor\n"
     ]
    }
   ],
   "source": [
    "hybrid_recco('xXx')"
   ]
  },
  {
   "cell_type": "code",
   "execution_count": 117,
   "id": "25d30884",
   "metadata": {},
   "outputs": [],
   "source": [
    "popular_df = movies.sort_values(by = 'popularity' , ascending= False).head(50)[['id','title','popularity']]"
   ]
  },
  {
   "cell_type": "code",
   "execution_count": 119,
   "id": "9331d4ff",
   "metadata": {},
   "outputs": [],
   "source": [
    "pickle.dump(popular_df,open('popular.pkl','wb'))"
   ]
  },
  {
   "cell_type": "code",
   "execution_count": 120,
   "id": "bfafd4eb",
   "metadata": {},
   "outputs": [],
   "source": [
    "pickle.dump(pt,open('pt.pkl','wb'))\n",
    "pickle.dump(new_CB_df,open('movies.pkl','wb'))\n",
    "pickle.dump(hyb_sim,open('similarity_scores.pkl','wb'))"
   ]
  }
 ],
 "metadata": {
  "kernelspec": {
   "display_name": "Python 3 (ipykernel)",
   "language": "python",
   "name": "python3"
  },
  "language_info": {
   "codemirror_mode": {
    "name": "ipython",
    "version": 3
   },
   "file_extension": ".py",
   "mimetype": "text/x-python",
   "name": "python",
   "nbconvert_exporter": "python",
   "pygments_lexer": "ipython3",
   "version": "3.12.2"
  }
 },
 "nbformat": 4,
 "nbformat_minor": 5
}
