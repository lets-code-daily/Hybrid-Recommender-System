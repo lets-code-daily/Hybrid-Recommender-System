{
 "cells": [
  {
   "cell_type": "code",
   "execution_count": 1,
   "id": "7efb7664",
   "metadata": {},
   "outputs": [],
   "source": [
    "import numpy as np\n",
    "import pandas as pd\n",
    "import matplotlib.pyplot as plt\n",
    "import seaborn as sns"
   ]
  },
  {
   "cell_type": "code",
   "execution_count": 2,
   "id": "e23608b4",
   "metadata": {},
   "outputs": [],
   "source": [
    "movies = pd.read_csv('tmdb_5000_movies.csv')"
   ]
  },
  {
   "cell_type": "code",
   "execution_count": 3,
   "id": "9a0e1eef",
   "metadata": {},
   "outputs": [
    {
     "name": "stdout",
     "output_type": "stream",
     "text": [
      "<class 'pandas.core.frame.DataFrame'>\n",
      "RangeIndex: 4803 entries, 0 to 4802\n",
      "Data columns (total 20 columns):\n",
      " #   Column                Non-Null Count  Dtype  \n",
      "---  ------                --------------  -----  \n",
      " 0   budget                4803 non-null   int64  \n",
      " 1   genres                4803 non-null   object \n",
      " 2   homepage              1712 non-null   object \n",
      " 3   id                    4803 non-null   int64  \n",
      " 4   keywords              4803 non-null   object \n",
      " 5   original_language     4803 non-null   object \n",
      " 6   original_title        4803 non-null   object \n",
      " 7   overview              4800 non-null   object \n",
      " 8   popularity            4803 non-null   float64\n",
      " 9   production_companies  4803 non-null   object \n",
      " 10  production_countries  4803 non-null   object \n",
      " 11  release_date          4802 non-null   object \n",
      " 12  revenue               4803 non-null   int64  \n",
      " 13  runtime               4801 non-null   float64\n",
      " 14  spoken_languages      4803 non-null   object \n",
      " 15  status                4803 non-null   object \n",
      " 16  tagline               3959 non-null   object \n",
      " 17  title                 4803 non-null   object \n",
      " 18  vote_average          4803 non-null   float64\n",
      " 19  vote_count            4803 non-null   int64  \n",
      "dtypes: float64(3), int64(4), object(13)\n",
      "memory usage: 750.6+ KB\n"
     ]
    }
   ],
   "source": [
    "movies.info()"
   ]
  },
  {
   "cell_type": "code",
   "execution_count": 4,
   "id": "a548105e",
   "metadata": {},
   "outputs": [],
   "source": [
    "# getting movie ids from movies database\n",
    "movie_ids = movies['id'].values"
   ]
  },
  {
   "cell_type": "code",
   "execution_count": 5,
   "id": "b8fb065e",
   "metadata": {},
   "outputs": [],
   "source": [
    "# getting vote_count from movies database\n",
    "vote_counts = movies['vote_count'].values"
   ]
  },
  {
   "cell_type": "code",
   "execution_count": 6,
   "id": "9513a855",
   "metadata": {},
   "outputs": [],
   "source": [
    "# Normalize vote counts to use as weights for popularity\n",
    "popularity_weights = vote_counts / np.sum(vote_counts)"
   ]
  },
  {
   "cell_type": "code",
   "execution_count": 7,
   "id": "4ba5c40e",
   "metadata": {},
   "outputs": [],
   "source": [
    "# specify number of ratings needed data\n",
    "num_ratings = 20000"
   ]
  },
  {
   "cell_type": "code",
   "execution_count": 8,
   "id": "b1e12177",
   "metadata": {},
   "outputs": [],
   "source": [
    "# Generate user IDs using a Pareto distribution\n",
    "alpha = 2.0  # shape parameter for Pareto distribution\n",
    "user_ids = (np.random.pareto(alpha, num_ratings) + 1) * 100  # scale and shift\n",
    "user_ids = user_ids.astype(int)\n",
    "user_ids = np.clip(user_ids, 1, 1000)  # ensure user IDs are between 1 and 1000"
   ]
  },
  {
   "cell_type": "raw",
   "id": "548a190b",
   "metadata": {},
   "source": [
    "Pareto Distribution for User IDs\n",
    "- This code generates user IDs using a Pareto distribution with a shape parameter alpha of 2.0\n",
    "- The result is scaled and shifted to produce values that are more likely to be low (i.e., certain user IDs appear more frequently)\n",
    "- The values are then clipped to be within the range of 1 to 1000."
   ]
  },
  {
   "cell_type": "code",
   "execution_count": 9,
   "id": "6c538e36",
   "metadata": {},
   "outputs": [],
   "source": [
    "# Calculate frequency of user IDs to simulate frequent and rare raters\n",
    "user_frequencies = np.bincount(user_ids, minlength=1001)[1:]  # frequency of each user_id from 1 to 1000\n",
    "user_weights = user_frequencies / np.sum(user_frequencies)  # normalize to create a probability distribution"
   ]
  },
  {
   "cell_type": "code",
   "execution_count": 10,
   "id": "88e60389",
   "metadata": {},
   "outputs": [],
   "source": [
    "# Initialize a set to track unique (user_id, movie_id) pairs\n",
    "unique_pairs = set()"
   ]
  },
  {
   "cell_type": "code",
   "execution_count": 11,
   "id": "07e2a257",
   "metadata": {},
   "outputs": [],
   "source": [
    "# Generate unique (user_id, movie_id) pairs with weighted sampling for movie_ids and user_ids\n",
    "user_ids = []\n",
    "movie_ids_sampled = []\n",
    "while len(unique_pairs) < num_ratings:\n",
    "    user_id = np.random.choice(a = np.arange(1, 1001), p=user_weights)\n",
    "    movie_id = np.random.choice(movie_ids, p=popularity_weights)\n",
    "    if (user_id, movie_id) not in unique_pairs:\n",
    "        unique_pairs.add((user_id, movie_id))\n",
    "        user_ids.append(user_id)\n",
    "        movie_ids_sampled.append(movie_id)"
   ]
  },
  {
   "cell_type": "code",
   "execution_count": 12,
   "id": "bb186f30",
   "metadata": {},
   "outputs": [],
   "source": [
    "# Generate ratings using a normal distribution\n",
    "mean_rating = 3.0  # average rating around 3.0\n",
    "std_dev_rating = 1.5  # standard deviation of 1.5\n",
    "ratings = np.random.normal(mean_rating, std_dev_rating, num_ratings)\n",
    "\n",
    "# Clip ratings to be within the 0.0 to 5.0 range\n",
    "ratings = np.clip(ratings, 0.0, 5.0)"
   ]
  },
  {
   "cell_type": "raw",
   "id": "d3eaf3f1",
   "metadata": {},
   "source": [
    "Normal Distribution for Ratings\n",
    "- This code generates ratings using a normal distribution centered around a mean rating of 3.0 with a standard deviation of 1.5\n",
    "-The values are clipped to ensure ratings stay within the 0.0 to 5.0 range."
   ]
  },
  {
   "cell_type": "code",
   "execution_count": 13,
   "id": "c73bc92e",
   "metadata": {},
   "outputs": [],
   "source": [
    "# Create Ratings DataFrame\n",
    "ratings_df = pd.DataFrame({\n",
    "    'movie_id': movie_ids_sampled,\n",
    "    'user_id': user_ids,\n",
    "    'rating': ratings\n",
    "})"
   ]
  },
  {
   "cell_type": "code",
   "execution_count": 14,
   "id": "8cd2de93",
   "metadata": {},
   "outputs": [
    {
     "data": {
      "text/plain": [
       "[65, 63, 60, 60, 59, 56, 55, 52, 51, 49]"
      ]
     },
     "execution_count": 14,
     "metadata": {},
     "output_type": "execute_result"
    }
   ],
   "source": [
    "# top 10 most rated movies\n",
    "sorted(ratings_df.groupby('movie_id').count()['rating'][ratings_df.groupby('movie_id')\n",
    "                                                        .count()['rating'] > 5], reverse=True)[0:10]"
   ]
  },
  {
   "cell_type": "code",
   "execution_count": 15,
   "id": "51f58fb4",
   "metadata": {
    "scrolled": true
   },
   "outputs": [
    {
     "data": {
      "text/plain": [
       "[363, 347, 344, 341, 329, 322, 315, 309, 307, 285]"
      ]
     },
     "execution_count": 15,
     "metadata": {},
     "output_type": "execute_result"
    }
   ],
   "source": [
    "# top 10 raters\n",
    "sorted(ratings_df.groupby('user_id').count()['rating'][ratings_df.groupby('user_id')\n",
    "                                                        .count()['rating'] > 50], reverse=True)[0:10]"
   ]
  },
  {
   "cell_type": "code",
   "execution_count": 16,
   "id": "3df934ea",
   "metadata": {},
   "outputs": [],
   "source": [
    "# Save to CSV\n",
    "ratings_df.to_csv('ratings.csv', index = False)"
   ]
  }
 ],
 "metadata": {
  "kernelspec": {
   "display_name": "Python 3 (ipykernel)",
   "language": "python",
   "name": "python3"
  },
  "language_info": {
   "codemirror_mode": {
    "name": "ipython",
    "version": 3
   },
   "file_extension": ".py",
   "mimetype": "text/x-python",
   "name": "python",
   "nbconvert_exporter": "python",
   "pygments_lexer": "ipython3",
   "version": "3.11.7"
  }
 },
 "nbformat": 4,
 "nbformat_minor": 5
}
